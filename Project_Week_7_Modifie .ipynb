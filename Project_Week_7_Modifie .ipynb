{
 "cells": [
  {
   "cell_type": "code",
   "execution_count": 136,
   "id": "48f231df",
   "metadata": {},
   "outputs": [],
   "source": [
    "import pandas as pd\n",
    "import numpy as np"
   ]
  },
  {
   "cell_type": "markdown",
   "id": "f2b6e0ca",
   "metadata": {},
   "source": [
    "# EDA"
   ]
  },
  {
   "cell_type": "code",
   "execution_count": 137,
   "id": "756cfabf",
   "metadata": {},
   "outputs": [],
   "source": [
    "data=pd.read_csv(r'C:\\Users\\Mtime\\OneDrive\\Bureau\\imdb_processed.csv')"
   ]
  },
  {
   "cell_type": "code",
   "execution_count": 138,
   "id": "f7864d0c",
   "metadata": {},
   "outputs": [],
   "source": [
    "#data.head()"
   ]
  },
  {
   "cell_type": "code",
   "execution_count": 139,
   "id": "84af2fdb",
   "metadata": {},
   "outputs": [],
   "source": [
    "# change le nom de index\n",
    "del  data['Unnamed: 0']"
   ]
  },
  {
   "cell_type": "code",
   "execution_count": 140,
   "id": "75769643",
   "metadata": {},
   "outputs": [],
   "source": [
    "data['year'] = data['year'].astype(int)\n"
   ]
  },
  {
   "cell_type": "code",
   "execution_count": 141,
   "id": "082de3a7",
   "metadata": {},
   "outputs": [
    {
     "data": {
      "text/html": [
       "<div>\n",
       "<style scoped>\n",
       "    .dataframe tbody tr th:only-of-type {\n",
       "        vertical-align: middle;\n",
       "    }\n",
       "\n",
       "    .dataframe tbody tr th {\n",
       "        vertical-align: top;\n",
       "    }\n",
       "\n",
       "    .dataframe thead th {\n",
       "        text-align: right;\n",
       "    }\n",
       "</style>\n",
       "<table border=\"1\" class=\"dataframe\">\n",
       "  <thead>\n",
       "    <tr style=\"text-align: right;\">\n",
       "      <th></th>\n",
       "      <th>year</th>\n",
       "      <th>rating</th>\n",
       "      <th>vote</th>\n",
       "      <th>runtime</th>\n",
       "    </tr>\n",
       "  </thead>\n",
       "  <tbody>\n",
       "    <tr>\n",
       "      <th>count</th>\n",
       "      <td>8451.000000</td>\n",
       "      <td>8135.000000</td>\n",
       "      <td>8.135000e+03</td>\n",
       "      <td>6798.000000</td>\n",
       "    </tr>\n",
       "    <tr>\n",
       "      <th>mean</th>\n",
       "      <td>1991.626080</td>\n",
       "      <td>6.680000</td>\n",
       "      <td>1.873295e+04</td>\n",
       "      <td>99.984113</td>\n",
       "    </tr>\n",
       "    <tr>\n",
       "      <th>std</th>\n",
       "      <td>15.129001</td>\n",
       "      <td>1.281778</td>\n",
       "      <td>8.957999e+04</td>\n",
       "      <td>65.277725</td>\n",
       "    </tr>\n",
       "    <tr>\n",
       "      <th>min</th>\n",
       "      <td>1905.000000</td>\n",
       "      <td>1.500000</td>\n",
       "      <td>5.000000e+00</td>\n",
       "      <td>2.000000</td>\n",
       "    </tr>\n",
       "    <tr>\n",
       "      <th>25%</th>\n",
       "      <td>1987.000000</td>\n",
       "      <td>6.000000</td>\n",
       "      <td>3.075000e+02</td>\n",
       "      <td>82.000000</td>\n",
       "    </tr>\n",
       "    <tr>\n",
       "      <th>50%</th>\n",
       "      <td>1998.000000</td>\n",
       "      <td>6.900000</td>\n",
       "      <td>1.531000e+03</td>\n",
       "      <td>95.000000</td>\n",
       "    </tr>\n",
       "    <tr>\n",
       "      <th>75%</th>\n",
       "      <td>2002.000000</td>\n",
       "      <td>7.600000</td>\n",
       "      <td>6.897500e+03</td>\n",
       "      <td>110.000000</td>\n",
       "    </tr>\n",
       "    <tr>\n",
       "      <th>max</th>\n",
       "      <td>2005.000000</td>\n",
       "      <td>9.600000</td>\n",
       "      <td>2.462087e+06</td>\n",
       "      <td>1620.000000</td>\n",
       "    </tr>\n",
       "  </tbody>\n",
       "</table>\n",
       "</div>"
      ],
      "text/plain": [
       "              year       rating          vote      runtime\n",
       "count  8451.000000  8135.000000  8.135000e+03  6798.000000\n",
       "mean   1991.626080     6.680000  1.873295e+04    99.984113\n",
       "std      15.129001     1.281778  8.957999e+04    65.277725\n",
       "min    1905.000000     1.500000  5.000000e+00     2.000000\n",
       "25%    1987.000000     6.000000  3.075000e+02    82.000000\n",
       "50%    1998.000000     6.900000  1.531000e+03    95.000000\n",
       "75%    2002.000000     7.600000  6.897500e+03   110.000000\n",
       "max    2005.000000     9.600000  2.462087e+06  1620.000000"
      ]
     },
     "execution_count": 141,
     "metadata": {},
     "output_type": "execute_result"
    }
   ],
   "source": [
    "data.describe()"
   ]
  },
  {
   "cell_type": "code",
   "execution_count": 142,
   "id": "9b683d66",
   "metadata": {},
   "outputs": [
    {
     "name": "stdout",
     "output_type": "stream",
     "text": [
      "<class 'pandas.core.frame.DataFrame'>\n",
      "RangeIndex: 8451 entries, 0 to 8450\n",
      "Data columns (total 13 columns):\n",
      " #   Column    Non-Null Count  Dtype  \n",
      "---  ------    --------------  -----  \n",
      " 0   title     8451 non-null   object \n",
      " 1   year      8451 non-null   int32  \n",
      " 2   kind      8451 non-null   object \n",
      " 3   genre     8384 non-null   object \n",
      " 4   rating    8135 non-null   float64\n",
      " 5   vote      8135 non-null   float64\n",
      " 6   country   8152 non-null   object \n",
      " 7   language  8052 non-null   object \n",
      " 8   cast      8280 non-null   object \n",
      " 9   director  7140 non-null   object \n",
      " 10  composer  5722 non-null   object \n",
      " 11  writer    7204 non-null   object \n",
      " 12  runtime   6798 non-null   float64\n",
      "dtypes: float64(3), int32(1), object(9)\n",
      "memory usage: 825.4+ KB\n"
     ]
    }
   ],
   "source": [
    "data.info()"
   ]
  },
  {
   "cell_type": "code",
   "execution_count": 143,
   "id": "06b9ef59",
   "metadata": {},
   "outputs": [],
   "source": [
    "# we will change the type of data for :\n",
    "# year "
   ]
  },
  {
   "cell_type": "code",
   "execution_count": 144,
   "id": "21545c6c",
   "metadata": {},
   "outputs": [
    {
     "data": {
      "text/plain": [
       "title          0\n",
       "year           0\n",
       "kind           0\n",
       "genre         67\n",
       "rating       316\n",
       "vote         316\n",
       "country      299\n",
       "language     399\n",
       "cast         171\n",
       "director    1311\n",
       "composer    2729\n",
       "writer      1247\n",
       "runtime     1653\n",
       "dtype: int64"
      ]
     },
     "execution_count": 144,
     "metadata": {},
     "output_type": "execute_result"
    }
   ],
   "source": [
    "data.isna().sum()"
   ]
  },
  {
   "cell_type": "code",
   "execution_count": 145,
   "id": "06697f90",
   "metadata": {},
   "outputs": [
    {
     "name": "stdout",
     "output_type": "stream",
     "text": [
      "genre null rate: 0.79%\n",
      "rating null rate: 3.74%\n",
      "vote null rate: 3.74%\n",
      "country null rate: 3.54%\n",
      "language null rate: 4.72%\n",
      "cast null rate: 2.02%\n",
      "director null rate: 15.51%\n",
      "composer null rate: 32.29%\n",
      "writer null rate: 14.76%\n",
      "runtime null rate: 19.56%\n"
     ]
    }
   ],
   "source": [
    "for i in data.columns:\n",
    "    null_rate = data[i].isna().sum() / len(data) * 100\n",
    "    if null_rate > 0 :\n",
    "        print(\"{} null rate: {}%\".format(i,round(null_rate,2)))"
   ]
  },
  {
   "cell_type": "code",
   "execution_count": 146,
   "id": "a0a8bbb6",
   "metadata": {},
   "outputs": [
    {
     "data": {
      "text/plain": [
       "(8451, 13)"
      ]
     },
     "execution_count": 146,
     "metadata": {},
     "output_type": "execute_result"
    }
   ],
   "source": [
    "data.shape"
   ]
  },
  {
   "cell_type": "code",
   "execution_count": 147,
   "id": "8269f9fc",
   "metadata": {},
   "outputs": [
    {
     "data": {
      "text/plain": [
       "0.19559815406460773"
      ]
     },
     "execution_count": 147,
     "metadata": {},
     "output_type": "execute_result"
    }
   ],
   "source": [
    "1653/8451\n"
   ]
  },
  {
   "cell_type": "code",
   "execution_count": 148,
   "id": "2e8b6225",
   "metadata": {},
   "outputs": [],
   "source": [
    "#data['director'].replace(np.nan, 'No Data',inplace  = True)"
   ]
  },
  {
   "cell_type": "code",
   "execution_count": 149,
   "id": "d2c377c5",
   "metadata": {},
   "outputs": [],
   "source": [
    "#plt.figure(figsize=(11,9))\n",
    "#sns.heatmap(data.corr(),square=True,annot=True,cmap='twilight_shifted')"
   ]
  },
  {
   "cell_type": "code",
   "execution_count": 150,
   "id": "716352fa",
   "metadata": {},
   "outputs": [],
   "source": [
    "#data['genre'].unique()"
   ]
  },
  {
   "cell_type": "code",
   "execution_count": 151,
   "id": "ef8e0c9a",
   "metadata": {},
   "outputs": [],
   "source": [
    "#data genre splitting\n",
    "data['genre'] = data['genre'].str.strip('[]')\n",
    "genre = data.genre.str.split(',').apply(pd.Series)\n",
    "genre = genre.drop(columns= [3,4,5,6,7,8,9,10])\n",
    "genre=genre.rename(columns={0: \"genre1\", 1: \"genre2\"})"
   ]
  },
  {
   "cell_type": "code",
   "execution_count": 152,
   "id": "1790aba0",
   "metadata": {},
   "outputs": [],
   "source": [
    "data = data.join(genre)\n",
    "data = data.drop(columns='genre')"
   ]
  },
  {
   "cell_type": "code",
   "execution_count": 153,
   "id": "70db40f2",
   "metadata": {},
   "outputs": [],
   "source": [
    "#country\n",
    "data['country'] = data['country'].str.strip('[]')\n",
    "country = data.country.str.split(',').apply(pd.Series)\n",
    "country = country.drop(columns= [2,3,4,5,6,7,8,9,10])\n",
    "country=country.rename(columns={0: \"country1\", 1: \"country2\"})"
   ]
  },
  {
   "cell_type": "code",
   "execution_count": 154,
   "id": "9a9a0bbb",
   "metadata": {},
   "outputs": [],
   "source": [
    "data = data.join(country)\n",
    "data = data.drop(columns='country')"
   ]
  },
  {
   "cell_type": "code",
   "execution_count": 155,
   "id": "4a04b4b0",
   "metadata": {},
   "outputs": [],
   "source": [
    "#language\n",
    "data['language'] = data['language'].str.strip('[]')\n",
    "language = data.language.str.split(',').apply(pd.Series)\n",
    "language = language.drop(columns= [2,3,4,5,6,7,8,9,10])\n",
    "language=language.rename(columns={0: \"language1\", 1: \"language2\"})"
   ]
  },
  {
   "cell_type": "code",
   "execution_count": 156,
   "id": "f7a89022",
   "metadata": {},
   "outputs": [],
   "source": [
    "data = data.join(language)\n",
    "data = data.drop(columns='language')"
   ]
  },
  {
   "cell_type": "code",
   "execution_count": 157,
   "id": "1c335613",
   "metadata": {},
   "outputs": [],
   "source": [
    "#cast\n",
    "data['cast'] = data['cast'].str.strip('[]')\n",
    "cast = data.cast.str.split(',').apply(pd.Series)\n",
    "cast= cast[[0,1]]\n",
    "cast=cast.rename(columns={0: \"cast1\", 1: \"cast2\"})\n"
   ]
  },
  {
   "cell_type": "code",
   "execution_count": 158,
   "id": "6db0a715",
   "metadata": {},
   "outputs": [],
   "source": [
    "data = data.join(cast)\n",
    "data = data.drop(columns='cast')"
   ]
  },
  {
   "cell_type": "code",
   "execution_count": 159,
   "id": "17448df5",
   "metadata": {},
   "outputs": [],
   "source": [
    "#director\n",
    "data['director'] = data['director'].str.strip('[]')\n",
    "director = data.director.str.split(',').apply(pd.Series)\n",
    "director = director.drop(columns= [2])\n",
    "director=director.rename(columns={0: \"director1\", 1: \"director2\"})"
   ]
  },
  {
   "cell_type": "code",
   "execution_count": 160,
   "id": "2059c13f",
   "metadata": {},
   "outputs": [],
   "source": [
    "data = data.join(director)\n",
    "data = data.drop(columns='director')"
   ]
  },
  {
   "cell_type": "code",
   "execution_count": 161,
   "id": "36ba8b0c",
   "metadata": {},
   "outputs": [],
   "source": [
    "#writer\n",
    "data['writer'] = data['writer'].str.strip('[]')\n",
    "writer = data.writer.str.split(',').apply(pd.Series)\n",
    "writer = writer.drop(columns= [2])\n",
    "writer=writer.rename(columns={0: \"writer1\", 1: \"writer2\"})"
   ]
  },
  {
   "cell_type": "code",
   "execution_count": 162,
   "id": "fdc25d88",
   "metadata": {},
   "outputs": [],
   "source": [
    "data = data.join(writer)\n",
    "data = data.drop(columns='writer')"
   ]
  },
  {
   "cell_type": "code",
   "execution_count": 163,
   "id": "0687d8be",
   "metadata": {},
   "outputs": [],
   "source": [
    "data=data.rename(columns={2: \"genre3\"})"
   ]
  },
  {
   "cell_type": "code",
   "execution_count": 164,
   "id": "4ba29549",
   "metadata": {},
   "outputs": [],
   "source": [
    "#composer\n",
    "data['composer'] = data['composer'].str.strip('[]')\n",
    "composer = data.composer.str.split(',').apply(pd.Series)\n",
    "composer = composer.drop(columns= [2,3,4,5,6,7,8,9])\n",
    "composer=composer.rename(columns={0: \"composer1\", 1: \"composer2\"})"
   ]
  },
  {
   "cell_type": "code",
   "execution_count": 165,
   "id": "5a335474",
   "metadata": {},
   "outputs": [],
   "source": [
    "data = data.join(composer)\n",
    "data = data.drop(columns='composer')"
   ]
  },
  {
   "cell_type": "code",
   "execution_count": 166,
   "id": "24dc6db4",
   "metadata": {
    "scrolled": true
   },
   "outputs": [
    {
     "data": {
      "text/plain": [
       "title           0\n",
       "year            0\n",
       "kind            0\n",
       "rating        316\n",
       "vote          316\n",
       "runtime      1653\n",
       "genre1         67\n",
       "genre2       1952\n",
       "genre3       4594\n",
       "country1      299\n",
       "country2     6811\n",
       "language1     399\n",
       "language2    6731\n",
       "cast1         171\n",
       "cast2         487\n",
       "director1    1311\n",
       "director2    7692\n",
       "writer1      1247\n",
       "writer2      3338\n",
       "composer1    2729\n",
       "composer2    7433\n",
       "dtype: int64"
      ]
     },
     "execution_count": 166,
     "metadata": {},
     "output_type": "execute_result"
    }
   ],
   "source": [
    "data.isna().sum()"
   ]
  },
  {
   "cell_type": "code",
   "execution_count": 167,
   "id": "16df4ce6",
   "metadata": {},
   "outputs": [],
   "source": [
    "#after checking the results we consider to delete \n",
    "#language2     6731\n",
    "#director2     7692\n",
    "#country2       6811\n",
    "#composer2      7433\n",
    "#genre3          4594\n",
    "#writer2       3338\n",
    "#composer1     2729\n",
    "\n",
    "data = data.drop(columns=['genre2','composer2','language2','director2','country2','composer1','composer2','genre3','writer2','cast2'])\n"
   ]
  },
  {
   "cell_type": "code",
   "execution_count": 168,
   "id": "0356f2ac",
   "metadata": {},
   "outputs": [
    {
     "data": {
      "text/plain": [
       "title           0\n",
       "year            0\n",
       "kind            0\n",
       "rating        316\n",
       "vote          316\n",
       "runtime      1653\n",
       "genre1         67\n",
       "country1      299\n",
       "language1     399\n",
       "cast1         171\n",
       "director1    1311\n",
       "writer1      1247\n",
       "dtype: int64"
      ]
     },
     "execution_count": 168,
     "metadata": {},
     "output_type": "execute_result"
    }
   ],
   "source": [
    "data.isna().sum()"
   ]
  },
  {
   "cell_type": "code",
   "execution_count": 169,
   "id": "2e9812e2",
   "metadata": {},
   "outputs": [],
   "source": [
    "data['director1']=np.where(data['director1'].isna()==True,'None',data['director1'])"
   ]
  },
  {
   "cell_type": "code",
   "execution_count": 170,
   "id": "fddcc7e6",
   "metadata": {},
   "outputs": [],
   "source": [
    "data['writer1']=np.where(data['writer1'].isna()==True,'None',data['writer1'])"
   ]
  },
  {
   "cell_type": "code",
   "execution_count": 171,
   "id": "27436cc0",
   "metadata": {},
   "outputs": [],
   "source": [
    "data['genre1']=np.where(data['genre1'].isna()==True,'None',data['genre1'])"
   ]
  },
  {
   "cell_type": "code",
   "execution_count": 172,
   "id": "75114cc1",
   "metadata": {},
   "outputs": [],
   "source": [
    "data['country1']=np.where(data['country1'].isna()==True,'None',data['country1'])"
   ]
  },
  {
   "cell_type": "code",
   "execution_count": 173,
   "id": "138d546b",
   "metadata": {},
   "outputs": [],
   "source": [
    "data['language1']=np.where(data['language1'].isna()==True,'None',data['language1'])"
   ]
  },
  {
   "cell_type": "code",
   "execution_count": 174,
   "id": "a9afb7db",
   "metadata": {},
   "outputs": [],
   "source": [
    "data['cast1']=np.where(data['cast1'].isna()==True,'None',data['cast1'])"
   ]
  },
  {
   "cell_type": "code",
   "execution_count": 175,
   "id": "c122b45f",
   "metadata": {},
   "outputs": [],
   "source": [
    "data['cast1']=np.where(data['cast1'].isna()==True,'None',data['cast1'])"
   ]
  },
  {
   "cell_type": "code",
   "execution_count": 176,
   "id": "1c3805bd",
   "metadata": {},
   "outputs": [
    {
     "data": {
      "text/html": [
       "<div>\n",
       "<style scoped>\n",
       "    .dataframe tbody tr th:only-of-type {\n",
       "        vertical-align: middle;\n",
       "    }\n",
       "\n",
       "    .dataframe tbody tr th {\n",
       "        vertical-align: top;\n",
       "    }\n",
       "\n",
       "    .dataframe thead th {\n",
       "        text-align: right;\n",
       "    }\n",
       "</style>\n",
       "<table border=\"1\" class=\"dataframe\">\n",
       "  <thead>\n",
       "    <tr style=\"text-align: right;\">\n",
       "      <th></th>\n",
       "      <th>title</th>\n",
       "      <th>year</th>\n",
       "      <th>kind</th>\n",
       "      <th>rating</th>\n",
       "      <th>vote</th>\n",
       "      <th>runtime</th>\n",
       "      <th>genre1</th>\n",
       "      <th>country1</th>\n",
       "      <th>language1</th>\n",
       "      <th>cast1</th>\n",
       "      <th>director1</th>\n",
       "      <th>writer1</th>\n",
       "    </tr>\n",
       "  </thead>\n",
       "  <tbody>\n",
       "    <tr>\n",
       "      <th>0</th>\n",
       "      <td>Dinosaur Planet</td>\n",
       "      <td>2003</td>\n",
       "      <td>tv mini series</td>\n",
       "      <td>7.7</td>\n",
       "      <td>474.0</td>\n",
       "      <td>50.0</td>\n",
       "      <td>'Documentary'</td>\n",
       "      <td>'United States'</td>\n",
       "      <td>'English'</td>\n",
       "      <td>'Christian Slater'</td>\n",
       "      <td>None</td>\n",
       "      <td>'Mike Carrol'</td>\n",
       "    </tr>\n",
       "    <tr>\n",
       "      <th>1</th>\n",
       "      <td>Get Up and Dance!</td>\n",
       "      <td>1994</td>\n",
       "      <td>video movie</td>\n",
       "      <td>8.1</td>\n",
       "      <td>18.0</td>\n",
       "      <td>83.0</td>\n",
       "      <td>'Family'</td>\n",
       "      <td>'United States'</td>\n",
       "      <td>'English'</td>\n",
       "      <td>'Paula Abdul'</td>\n",
       "      <td>'Steve Purcell'</td>\n",
       "      <td>None</td>\n",
       "    </tr>\n",
       "    <tr>\n",
       "      <th>2</th>\n",
       "      <td>8 Man</td>\n",
       "      <td>1992</td>\n",
       "      <td>movie</td>\n",
       "      <td>5.5</td>\n",
       "      <td>93.0</td>\n",
       "      <td>NaN</td>\n",
       "      <td>'Action'</td>\n",
       "      <td>'Japan'</td>\n",
       "      <td>'Japanese'</td>\n",
       "      <td>'Kai Shishido'</td>\n",
       "      <td>'Yasuhiro Horiuchi'</td>\n",
       "      <td>'Kazumasa Hirai'</td>\n",
       "    </tr>\n",
       "    <tr>\n",
       "      <th>3</th>\n",
       "      <td>What the #$*! Do We (K)now!?</td>\n",
       "      <td>2004</td>\n",
       "      <td>movie</td>\n",
       "      <td>5.3</td>\n",
       "      <td>13432.0</td>\n",
       "      <td>60.0</td>\n",
       "      <td>'Documentary'</td>\n",
       "      <td>'United States'</td>\n",
       "      <td>'English'</td>\n",
       "      <td>'Marlee Matlin'</td>\n",
       "      <td>'William Arntz'</td>\n",
       "      <td>'William Arntz'</td>\n",
       "    </tr>\n",
       "    <tr>\n",
       "      <th>4</th>\n",
       "      <td>Class of Nuke 'Em High Part II: Subhumanoid Me...</td>\n",
       "      <td>1991</td>\n",
       "      <td>movie</td>\n",
       "      <td>4.5</td>\n",
       "      <td>2177.0</td>\n",
       "      <td>96.0</td>\n",
       "      <td>'Comedy'</td>\n",
       "      <td>'United States'</td>\n",
       "      <td>'English'</td>\n",
       "      <td>'Brick Bronsky'</td>\n",
       "      <td>'Eric Louzil'</td>\n",
       "      <td>'Lloyd Kaufman'</td>\n",
       "    </tr>\n",
       "    <tr>\n",
       "      <th>...</th>\n",
       "      <td>...</td>\n",
       "      <td>...</td>\n",
       "      <td>...</td>\n",
       "      <td>...</td>\n",
       "      <td>...</td>\n",
       "      <td>...</td>\n",
       "      <td>...</td>\n",
       "      <td>...</td>\n",
       "      <td>...</td>\n",
       "      <td>...</td>\n",
       "      <td>...</td>\n",
       "      <td>...</td>\n",
       "    </tr>\n",
       "    <tr>\n",
       "      <th>8446</th>\n",
       "      <td>All Monsters Attack</td>\n",
       "      <td>1969</td>\n",
       "      <td>movie</td>\n",
       "      <td>3.9</td>\n",
       "      <td>4384.0</td>\n",
       "      <td>NaN</td>\n",
       "      <td>'Adventure'</td>\n",
       "      <td>'Japan'</td>\n",
       "      <td>'Japanese'</td>\n",
       "      <td>'Tomonori Yazaki'</td>\n",
       "      <td>'Ishirô Honda'</td>\n",
       "      <td>\"Shin'ichi Sekizawa\"</td>\n",
       "    </tr>\n",
       "    <tr>\n",
       "      <th>8447</th>\n",
       "      <td>Fidel Castro</td>\n",
       "      <td>2005</td>\n",
       "      <td>episode</td>\n",
       "      <td>6.4</td>\n",
       "      <td>44.0</td>\n",
       "      <td>NaN</td>\n",
       "      <td>'Documentary'</td>\n",
       "      <td>None</td>\n",
       "      <td>'English'</td>\n",
       "      <td>'Rena Baskin'</td>\n",
       "      <td>'Adriana Bosch'</td>\n",
       "      <td>'Adriana Bosch'</td>\n",
       "    </tr>\n",
       "    <tr>\n",
       "      <th>8448</th>\n",
       "      <td>Epoch</td>\n",
       "      <td>2001</td>\n",
       "      <td>tv movie</td>\n",
       "      <td>4.9</td>\n",
       "      <td>2376.0</td>\n",
       "      <td>NaN</td>\n",
       "      <td>'Sci-Fi'</td>\n",
       "      <td>'United States'</td>\n",
       "      <td>'English'</td>\n",
       "      <td>'David Keith'</td>\n",
       "      <td>'Matt Codd'</td>\n",
       "      <td>'Jonathan Raymond'</td>\n",
       "    </tr>\n",
       "    <tr>\n",
       "      <th>8449</th>\n",
       "      <td>The Company</td>\n",
       "      <td>2003</td>\n",
       "      <td>movie</td>\n",
       "      <td>6.3</td>\n",
       "      <td>6501.0</td>\n",
       "      <td>NaN</td>\n",
       "      <td>'Drama'</td>\n",
       "      <td>'United States'</td>\n",
       "      <td>'English'</td>\n",
       "      <td>'Neve Campbell'</td>\n",
       "      <td>'Robert Altman'</td>\n",
       "      <td>'Neve Campbell'</td>\n",
       "    </tr>\n",
       "    <tr>\n",
       "      <th>8450</th>\n",
       "      <td>Predator</td>\n",
       "      <td>1987</td>\n",
       "      <td>movie</td>\n",
       "      <td>7.8</td>\n",
       "      <td>386850.0</td>\n",
       "      <td>NaN</td>\n",
       "      <td>'Action'</td>\n",
       "      <td>'United States'</td>\n",
       "      <td>'English'</td>\n",
       "      <td>'Arnold Schwarzenegger'</td>\n",
       "      <td>'John McTiernan'</td>\n",
       "      <td>'Jim Thomas'</td>\n",
       "    </tr>\n",
       "  </tbody>\n",
       "</table>\n",
       "<p>8451 rows × 12 columns</p>\n",
       "</div>"
      ],
      "text/plain": [
       "                                                  title  year            kind  \\\n",
       "0                                       Dinosaur Planet  2003  tv mini series   \n",
       "1                                     Get Up and Dance!  1994     video movie   \n",
       "2                                                 8 Man  1992           movie   \n",
       "3                          What the #$*! Do We (K)now!?  2004           movie   \n",
       "4     Class of Nuke 'Em High Part II: Subhumanoid Me...  1991           movie   \n",
       "...                                                 ...   ...             ...   \n",
       "8446                                All Monsters Attack  1969           movie   \n",
       "8447                                       Fidel Castro  2005         episode   \n",
       "8448                                              Epoch  2001        tv movie   \n",
       "8449                                        The Company  2003           movie   \n",
       "8450                                           Predator  1987           movie   \n",
       "\n",
       "      rating      vote  runtime         genre1         country1   language1  \\\n",
       "0        7.7     474.0     50.0  'Documentary'  'United States'   'English'   \n",
       "1        8.1      18.0     83.0       'Family'  'United States'   'English'   \n",
       "2        5.5      93.0      NaN       'Action'          'Japan'  'Japanese'   \n",
       "3        5.3   13432.0     60.0  'Documentary'  'United States'   'English'   \n",
       "4        4.5    2177.0     96.0       'Comedy'  'United States'   'English'   \n",
       "...      ...       ...      ...            ...              ...         ...   \n",
       "8446     3.9    4384.0      NaN    'Adventure'          'Japan'  'Japanese'   \n",
       "8447     6.4      44.0      NaN  'Documentary'             None   'English'   \n",
       "8448     4.9    2376.0      NaN       'Sci-Fi'  'United States'   'English'   \n",
       "8449     6.3    6501.0      NaN        'Drama'  'United States'   'English'   \n",
       "8450     7.8  386850.0      NaN       'Action'  'United States'   'English'   \n",
       "\n",
       "                        cast1            director1               writer1  \n",
       "0          'Christian Slater'                 None         'Mike Carrol'  \n",
       "1               'Paula Abdul'      'Steve Purcell'                  None  \n",
       "2              'Kai Shishido'  'Yasuhiro Horiuchi'      'Kazumasa Hirai'  \n",
       "3             'Marlee Matlin'      'William Arntz'       'William Arntz'  \n",
       "4             'Brick Bronsky'        'Eric Louzil'       'Lloyd Kaufman'  \n",
       "...                       ...                  ...                   ...  \n",
       "8446        'Tomonori Yazaki'       'Ishirô Honda'  \"Shin'ichi Sekizawa\"  \n",
       "8447            'Rena Baskin'      'Adriana Bosch'       'Adriana Bosch'  \n",
       "8448            'David Keith'          'Matt Codd'    'Jonathan Raymond'  \n",
       "8449          'Neve Campbell'      'Robert Altman'       'Neve Campbell'  \n",
       "8450  'Arnold Schwarzenegger'     'John McTiernan'          'Jim Thomas'  \n",
       "\n",
       "[8451 rows x 12 columns]"
      ]
     },
     "execution_count": 176,
     "metadata": {},
     "output_type": "execute_result"
    }
   ],
   "source": [
    "data"
   ]
  },
  {
   "cell_type": "code",
   "execution_count": 177,
   "id": "370049b4",
   "metadata": {},
   "outputs": [
    {
     "data": {
      "text/html": [
       "<div>\n",
       "<style scoped>\n",
       "    .dataframe tbody tr th:only-of-type {\n",
       "        vertical-align: middle;\n",
       "    }\n",
       "\n",
       "    .dataframe tbody tr th {\n",
       "        vertical-align: top;\n",
       "    }\n",
       "\n",
       "    .dataframe thead th {\n",
       "        text-align: right;\n",
       "    }\n",
       "</style>\n",
       "<table border=\"1\" class=\"dataframe\">\n",
       "  <thead>\n",
       "    <tr style=\"text-align: right;\">\n",
       "      <th></th>\n",
       "      <th>title</th>\n",
       "      <th>year</th>\n",
       "      <th>kind</th>\n",
       "      <th>rating</th>\n",
       "      <th>vote</th>\n",
       "      <th>runtime</th>\n",
       "      <th>genre1</th>\n",
       "      <th>country1</th>\n",
       "      <th>language1</th>\n",
       "      <th>cast1</th>\n",
       "      <th>director1</th>\n",
       "      <th>writer1</th>\n",
       "    </tr>\n",
       "  </thead>\n",
       "  <tbody>\n",
       "    <tr>\n",
       "      <th>0</th>\n",
       "      <td>Dinosaur Planet</td>\n",
       "      <td>2003</td>\n",
       "      <td>tv mini series</td>\n",
       "      <td>7.7</td>\n",
       "      <td>474.0</td>\n",
       "      <td>50.0</td>\n",
       "      <td>'Documentary'</td>\n",
       "      <td>'United States'</td>\n",
       "      <td>'English'</td>\n",
       "      <td>'Christian Slater'</td>\n",
       "      <td>None</td>\n",
       "      <td>'Mike Carrol'</td>\n",
       "    </tr>\n",
       "    <tr>\n",
       "      <th>1</th>\n",
       "      <td>Get Up and Dance!</td>\n",
       "      <td>1994</td>\n",
       "      <td>video movie</td>\n",
       "      <td>8.1</td>\n",
       "      <td>18.0</td>\n",
       "      <td>83.0</td>\n",
       "      <td>'Family'</td>\n",
       "      <td>'United States'</td>\n",
       "      <td>'English'</td>\n",
       "      <td>'Paula Abdul'</td>\n",
       "      <td>'Steve Purcell'</td>\n",
       "      <td>None</td>\n",
       "    </tr>\n",
       "    <tr>\n",
       "      <th>2</th>\n",
       "      <td>8 Man</td>\n",
       "      <td>1992</td>\n",
       "      <td>movie</td>\n",
       "      <td>5.5</td>\n",
       "      <td>93.0</td>\n",
       "      <td>NaN</td>\n",
       "      <td>'Action'</td>\n",
       "      <td>'Japan'</td>\n",
       "      <td>'Japanese'</td>\n",
       "      <td>'Kai Shishido'</td>\n",
       "      <td>'Yasuhiro Horiuchi'</td>\n",
       "      <td>'Kazumasa Hirai'</td>\n",
       "    </tr>\n",
       "    <tr>\n",
       "      <th>3</th>\n",
       "      <td>What the #$*! Do We (K)now!?</td>\n",
       "      <td>2004</td>\n",
       "      <td>movie</td>\n",
       "      <td>5.3</td>\n",
       "      <td>13432.0</td>\n",
       "      <td>60.0</td>\n",
       "      <td>'Documentary'</td>\n",
       "      <td>'United States'</td>\n",
       "      <td>'English'</td>\n",
       "      <td>'Marlee Matlin'</td>\n",
       "      <td>'William Arntz'</td>\n",
       "      <td>'William Arntz'</td>\n",
       "    </tr>\n",
       "    <tr>\n",
       "      <th>4</th>\n",
       "      <td>Class of Nuke 'Em High Part II: Subhumanoid Me...</td>\n",
       "      <td>1991</td>\n",
       "      <td>movie</td>\n",
       "      <td>4.5</td>\n",
       "      <td>2177.0</td>\n",
       "      <td>96.0</td>\n",
       "      <td>'Comedy'</td>\n",
       "      <td>'United States'</td>\n",
       "      <td>'English'</td>\n",
       "      <td>'Brick Bronsky'</td>\n",
       "      <td>'Eric Louzil'</td>\n",
       "      <td>'Lloyd Kaufman'</td>\n",
       "    </tr>\n",
       "    <tr>\n",
       "      <th>...</th>\n",
       "      <td>...</td>\n",
       "      <td>...</td>\n",
       "      <td>...</td>\n",
       "      <td>...</td>\n",
       "      <td>...</td>\n",
       "      <td>...</td>\n",
       "      <td>...</td>\n",
       "      <td>...</td>\n",
       "      <td>...</td>\n",
       "      <td>...</td>\n",
       "      <td>...</td>\n",
       "      <td>...</td>\n",
       "    </tr>\n",
       "    <tr>\n",
       "      <th>8446</th>\n",
       "      <td>All Monsters Attack</td>\n",
       "      <td>1969</td>\n",
       "      <td>movie</td>\n",
       "      <td>3.9</td>\n",
       "      <td>4384.0</td>\n",
       "      <td>NaN</td>\n",
       "      <td>'Adventure'</td>\n",
       "      <td>'Japan'</td>\n",
       "      <td>'Japanese'</td>\n",
       "      <td>'Tomonori Yazaki'</td>\n",
       "      <td>'Ishirô Honda'</td>\n",
       "      <td>\"Shin'ichi Sekizawa\"</td>\n",
       "    </tr>\n",
       "    <tr>\n",
       "      <th>8447</th>\n",
       "      <td>Fidel Castro</td>\n",
       "      <td>2005</td>\n",
       "      <td>episode</td>\n",
       "      <td>6.4</td>\n",
       "      <td>44.0</td>\n",
       "      <td>NaN</td>\n",
       "      <td>'Documentary'</td>\n",
       "      <td>None</td>\n",
       "      <td>'English'</td>\n",
       "      <td>'Rena Baskin'</td>\n",
       "      <td>'Adriana Bosch'</td>\n",
       "      <td>'Adriana Bosch'</td>\n",
       "    </tr>\n",
       "    <tr>\n",
       "      <th>8448</th>\n",
       "      <td>Epoch</td>\n",
       "      <td>2001</td>\n",
       "      <td>tv movie</td>\n",
       "      <td>4.9</td>\n",
       "      <td>2376.0</td>\n",
       "      <td>NaN</td>\n",
       "      <td>'Sci-Fi'</td>\n",
       "      <td>'United States'</td>\n",
       "      <td>'English'</td>\n",
       "      <td>'David Keith'</td>\n",
       "      <td>'Matt Codd'</td>\n",
       "      <td>'Jonathan Raymond'</td>\n",
       "    </tr>\n",
       "    <tr>\n",
       "      <th>8449</th>\n",
       "      <td>The Company</td>\n",
       "      <td>2003</td>\n",
       "      <td>movie</td>\n",
       "      <td>6.3</td>\n",
       "      <td>6501.0</td>\n",
       "      <td>NaN</td>\n",
       "      <td>'Drama'</td>\n",
       "      <td>'United States'</td>\n",
       "      <td>'English'</td>\n",
       "      <td>'Neve Campbell'</td>\n",
       "      <td>'Robert Altman'</td>\n",
       "      <td>'Neve Campbell'</td>\n",
       "    </tr>\n",
       "    <tr>\n",
       "      <th>8450</th>\n",
       "      <td>Predator</td>\n",
       "      <td>1987</td>\n",
       "      <td>movie</td>\n",
       "      <td>7.8</td>\n",
       "      <td>386850.0</td>\n",
       "      <td>NaN</td>\n",
       "      <td>'Action'</td>\n",
       "      <td>'United States'</td>\n",
       "      <td>'English'</td>\n",
       "      <td>'Arnold Schwarzenegger'</td>\n",
       "      <td>'John McTiernan'</td>\n",
       "      <td>'Jim Thomas'</td>\n",
       "    </tr>\n",
       "  </tbody>\n",
       "</table>\n",
       "<p>8451 rows × 12 columns</p>\n",
       "</div>"
      ],
      "text/plain": [
       "                                                  title  year            kind  \\\n",
       "0                                       Dinosaur Planet  2003  tv mini series   \n",
       "1                                     Get Up and Dance!  1994     video movie   \n",
       "2                                                 8 Man  1992           movie   \n",
       "3                          What the #$*! Do We (K)now!?  2004           movie   \n",
       "4     Class of Nuke 'Em High Part II: Subhumanoid Me...  1991           movie   \n",
       "...                                                 ...   ...             ...   \n",
       "8446                                All Monsters Attack  1969           movie   \n",
       "8447                                       Fidel Castro  2005         episode   \n",
       "8448                                              Epoch  2001        tv movie   \n",
       "8449                                        The Company  2003           movie   \n",
       "8450                                           Predator  1987           movie   \n",
       "\n",
       "      rating      vote  runtime         genre1         country1   language1  \\\n",
       "0        7.7     474.0     50.0  'Documentary'  'United States'   'English'   \n",
       "1        8.1      18.0     83.0       'Family'  'United States'   'English'   \n",
       "2        5.5      93.0      NaN       'Action'          'Japan'  'Japanese'   \n",
       "3        5.3   13432.0     60.0  'Documentary'  'United States'   'English'   \n",
       "4        4.5    2177.0     96.0       'Comedy'  'United States'   'English'   \n",
       "...      ...       ...      ...            ...              ...         ...   \n",
       "8446     3.9    4384.0      NaN    'Adventure'          'Japan'  'Japanese'   \n",
       "8447     6.4      44.0      NaN  'Documentary'             None   'English'   \n",
       "8448     4.9    2376.0      NaN       'Sci-Fi'  'United States'   'English'   \n",
       "8449     6.3    6501.0      NaN        'Drama'  'United States'   'English'   \n",
       "8450     7.8  386850.0      NaN       'Action'  'United States'   'English'   \n",
       "\n",
       "                        cast1            director1               writer1  \n",
       "0          'Christian Slater'                 None         'Mike Carrol'  \n",
       "1               'Paula Abdul'      'Steve Purcell'                  None  \n",
       "2              'Kai Shishido'  'Yasuhiro Horiuchi'      'Kazumasa Hirai'  \n",
       "3             'Marlee Matlin'      'William Arntz'       'William Arntz'  \n",
       "4             'Brick Bronsky'        'Eric Louzil'       'Lloyd Kaufman'  \n",
       "...                       ...                  ...                   ...  \n",
       "8446        'Tomonori Yazaki'       'Ishirô Honda'  \"Shin'ichi Sekizawa\"  \n",
       "8447            'Rena Baskin'      'Adriana Bosch'       'Adriana Bosch'  \n",
       "8448            'David Keith'          'Matt Codd'    'Jonathan Raymond'  \n",
       "8449          'Neve Campbell'      'Robert Altman'       'Neve Campbell'  \n",
       "8450  'Arnold Schwarzenegger'     'John McTiernan'          'Jim Thomas'  \n",
       "\n",
       "[8451 rows x 12 columns]"
      ]
     },
     "execution_count": 177,
     "metadata": {},
     "output_type": "execute_result"
    }
   ],
   "source": [
    "data"
   ]
  },
  {
   "cell_type": "code",
   "execution_count": 179,
   "id": "d2091051",
   "metadata": {},
   "outputs": [],
   "source": [
    "data['genre1'] = data['genre1'].str.strip(\"''\").astype(object)\n",
    "data['country1'] = data['country1'].str.strip(\"''\").astype(object)\n",
    "data['language1'] = data['language1'].str.strip(\"''\").astype(object)\n",
    "data['cast1'] = data['cast1'].str.strip(\"''\").astype(object)\n",
    "data['writer1'] = data['writer1'].str.strip(\"''\").astype(object)\n",
    "data['director1'] = data['director1'].str.strip(\"''\").astype(object)\n"
   ]
  },
  {
   "cell_type": "code",
   "execution_count": 180,
   "id": "36edb66e",
   "metadata": {},
   "outputs": [
    {
     "data": {
      "text/plain": [
       "title           0\n",
       "year            0\n",
       "kind            0\n",
       "rating        316\n",
       "vote          316\n",
       "runtime      1653\n",
       "genre1          0\n",
       "country1        0\n",
       "language1       0\n",
       "cast1           0\n",
       "director1       0\n",
       "writer1         0\n",
       "dtype: int64"
      ]
     },
     "execution_count": 180,
     "metadata": {},
     "output_type": "execute_result"
    }
   ],
   "source": [
    "data.isna().sum()"
   ]
  },
  {
   "cell_type": "code",
   "execution_count": 181,
   "id": "a3c968d4",
   "metadata": {},
   "outputs": [
    {
     "data": {
      "text/html": [
       "<div>\n",
       "<style scoped>\n",
       "    .dataframe tbody tr th:only-of-type {\n",
       "        vertical-align: middle;\n",
       "    }\n",
       "\n",
       "    .dataframe tbody tr th {\n",
       "        vertical-align: top;\n",
       "    }\n",
       "\n",
       "    .dataframe thead th {\n",
       "        text-align: right;\n",
       "    }\n",
       "</style>\n",
       "<table border=\"1\" class=\"dataframe\">\n",
       "  <thead>\n",
       "    <tr style=\"text-align: right;\">\n",
       "      <th></th>\n",
       "      <th>runtime</th>\n",
       "    </tr>\n",
       "    <tr>\n",
       "      <th>kind</th>\n",
       "      <th></th>\n",
       "    </tr>\n",
       "  </thead>\n",
       "  <tbody>\n",
       "    <tr>\n",
       "      <th>episode</th>\n",
       "      <td>98.230947</td>\n",
       "    </tr>\n",
       "    <tr>\n",
       "      <th>movie</th>\n",
       "      <td>99.231426</td>\n",
       "    </tr>\n",
       "    <tr>\n",
       "      <th>tv mini series</th>\n",
       "      <td>99.367150</td>\n",
       "    </tr>\n",
       "    <tr>\n",
       "      <th>tv movie</th>\n",
       "      <td>103.788491</td>\n",
       "    </tr>\n",
       "    <tr>\n",
       "      <th>tv series</th>\n",
       "      <td>102.680154</td>\n",
       "    </tr>\n",
       "    <tr>\n",
       "      <th>tv short</th>\n",
       "      <td>70.875000</td>\n",
       "    </tr>\n",
       "    <tr>\n",
       "      <th>video game</th>\n",
       "      <td>108.894737</td>\n",
       "    </tr>\n",
       "    <tr>\n",
       "      <th>video movie</th>\n",
       "      <td>99.995479</td>\n",
       "    </tr>\n",
       "  </tbody>\n",
       "</table>\n",
       "</div>"
      ],
      "text/plain": [
       "                   runtime\n",
       "kind                      \n",
       "episode          98.230947\n",
       "movie            99.231426\n",
       "tv mini series   99.367150\n",
       "tv movie        103.788491\n",
       "tv series       102.680154\n",
       "tv short         70.875000\n",
       "video game      108.894737\n",
       "video movie      99.995479"
      ]
     },
     "execution_count": 181,
     "metadata": {},
     "output_type": "execute_result"
    }
   ],
   "source": [
    "# calculate medians for each moovie kind\n",
    "median_values = data[['runtime','kind']].groupby(['kind']).agg(\"mean\")\n",
    "median_values"
   ]
  },
  {
   "cell_type": "code",
   "execution_count": 182,
   "id": "52ce34ca",
   "metadata": {},
   "outputs": [
    {
     "name": "stderr",
     "output_type": "stream",
     "text": [
      "C:\\Users\\Mtime\\AppData\\Local\\Temp/ipykernel_3196/3012024400.py:10: SettingWithCopyWarning: \n",
      "A value is trying to be set on a copy of a slice from a DataFrame\n",
      "\n",
      "See the caveats in the documentation: https://pandas.pydata.org/pandas-docs/stable/user_guide/indexing.html#returning-a-view-versus-a-copy\n",
      "  data[col][i]= median_values.at[kind, col]\n"
     ]
    }
   ],
   "source": [
    "import math\n",
    "# impute missing values for rating, vote, runtime columns with medians\n",
    "kinds = ['episode', 'movie', 'tv mini series', 'tv movie', 'tv series', 'tv short', 'video game', 'video movie']\n",
    "col_impute = ['runtime']\n",
    "for kind in kinds:\n",
    "    for col in col_impute:\n",
    "        for i in range(len(data)):\n",
    "            if math.isnan(data[col][i])==True:\n",
    "                if data['kind'][i] == kind:\n",
    "                    data[col][i]= median_values.at[kind, col]"
   ]
  },
  {
   "cell_type": "code",
   "execution_count": 183,
   "id": "5bff0d3d",
   "metadata": {},
   "outputs": [
    {
     "data": {
      "text/plain": [
       "title          0\n",
       "year           0\n",
       "kind           0\n",
       "rating       316\n",
       "vote         316\n",
       "runtime        0\n",
       "genre1         0\n",
       "country1       0\n",
       "language1      0\n",
       "cast1          0\n",
       "director1      0\n",
       "writer1        0\n",
       "dtype: int64"
      ]
     },
     "execution_count": 183,
     "metadata": {},
     "output_type": "execute_result"
    }
   ],
   "source": [
    "data.isna().sum()"
   ]
  },
  {
   "cell_type": "code",
   "execution_count": 184,
   "id": "fb0655b9",
   "metadata": {},
   "outputs": [],
   "source": [
    "data = data.dropna(subset=['rating'])"
   ]
  },
  {
   "cell_type": "code",
   "execution_count": 185,
   "id": "0712e46d",
   "metadata": {},
   "outputs": [
    {
     "data": {
      "text/html": [
       "<div>\n",
       "<style scoped>\n",
       "    .dataframe tbody tr th:only-of-type {\n",
       "        vertical-align: middle;\n",
       "    }\n",
       "\n",
       "    .dataframe tbody tr th {\n",
       "        vertical-align: top;\n",
       "    }\n",
       "\n",
       "    .dataframe thead th {\n",
       "        text-align: right;\n",
       "    }\n",
       "</style>\n",
       "<table border=\"1\" class=\"dataframe\">\n",
       "  <thead>\n",
       "    <tr style=\"text-align: right;\">\n",
       "      <th></th>\n",
       "      <th>title</th>\n",
       "      <th>year</th>\n",
       "      <th>kind</th>\n",
       "      <th>rating</th>\n",
       "      <th>vote</th>\n",
       "      <th>runtime</th>\n",
       "      <th>genre1</th>\n",
       "      <th>country1</th>\n",
       "      <th>language1</th>\n",
       "      <th>cast1</th>\n",
       "      <th>director1</th>\n",
       "      <th>writer1</th>\n",
       "    </tr>\n",
       "  </thead>\n",
       "  <tbody>\n",
       "    <tr>\n",
       "      <th>0</th>\n",
       "      <td>Dinosaur Planet</td>\n",
       "      <td>2003</td>\n",
       "      <td>tv mini series</td>\n",
       "      <td>7.7</td>\n",
       "      <td>474.0</td>\n",
       "      <td>50.000000</td>\n",
       "      <td>Documentary</td>\n",
       "      <td>United States</td>\n",
       "      <td>English</td>\n",
       "      <td>Christian Slater</td>\n",
       "      <td>None</td>\n",
       "      <td>Mike Carrol</td>\n",
       "    </tr>\n",
       "    <tr>\n",
       "      <th>1</th>\n",
       "      <td>Get Up and Dance!</td>\n",
       "      <td>1994</td>\n",
       "      <td>video movie</td>\n",
       "      <td>8.1</td>\n",
       "      <td>18.0</td>\n",
       "      <td>83.000000</td>\n",
       "      <td>Family</td>\n",
       "      <td>United States</td>\n",
       "      <td>English</td>\n",
       "      <td>Paula Abdul</td>\n",
       "      <td>Steve Purcell</td>\n",
       "      <td>None</td>\n",
       "    </tr>\n",
       "    <tr>\n",
       "      <th>2</th>\n",
       "      <td>8 Man</td>\n",
       "      <td>1992</td>\n",
       "      <td>movie</td>\n",
       "      <td>5.5</td>\n",
       "      <td>93.0</td>\n",
       "      <td>99.231426</td>\n",
       "      <td>Action</td>\n",
       "      <td>Japan</td>\n",
       "      <td>Japanese</td>\n",
       "      <td>Kai Shishido</td>\n",
       "      <td>Yasuhiro Horiuchi</td>\n",
       "      <td>Kazumasa Hirai</td>\n",
       "    </tr>\n",
       "    <tr>\n",
       "      <th>3</th>\n",
       "      <td>What the #$*! Do We (K)now!?</td>\n",
       "      <td>2004</td>\n",
       "      <td>movie</td>\n",
       "      <td>5.3</td>\n",
       "      <td>13432.0</td>\n",
       "      <td>60.000000</td>\n",
       "      <td>Documentary</td>\n",
       "      <td>United States</td>\n",
       "      <td>English</td>\n",
       "      <td>Marlee Matlin</td>\n",
       "      <td>William Arntz</td>\n",
       "      <td>William Arntz</td>\n",
       "    </tr>\n",
       "    <tr>\n",
       "      <th>4</th>\n",
       "      <td>Class of Nuke 'Em High Part II: Subhumanoid Me...</td>\n",
       "      <td>1991</td>\n",
       "      <td>movie</td>\n",
       "      <td>4.5</td>\n",
       "      <td>2177.0</td>\n",
       "      <td>96.000000</td>\n",
       "      <td>Comedy</td>\n",
       "      <td>United States</td>\n",
       "      <td>English</td>\n",
       "      <td>Brick Bronsky</td>\n",
       "      <td>Eric Louzil</td>\n",
       "      <td>Lloyd Kaufman</td>\n",
       "    </tr>\n",
       "    <tr>\n",
       "      <th>...</th>\n",
       "      <td>...</td>\n",
       "      <td>...</td>\n",
       "      <td>...</td>\n",
       "      <td>...</td>\n",
       "      <td>...</td>\n",
       "      <td>...</td>\n",
       "      <td>...</td>\n",
       "      <td>...</td>\n",
       "      <td>...</td>\n",
       "      <td>...</td>\n",
       "      <td>...</td>\n",
       "      <td>...</td>\n",
       "    </tr>\n",
       "    <tr>\n",
       "      <th>8446</th>\n",
       "      <td>All Monsters Attack</td>\n",
       "      <td>1969</td>\n",
       "      <td>movie</td>\n",
       "      <td>3.9</td>\n",
       "      <td>4384.0</td>\n",
       "      <td>99.231426</td>\n",
       "      <td>Adventure</td>\n",
       "      <td>Japan</td>\n",
       "      <td>Japanese</td>\n",
       "      <td>Tomonori Yazaki</td>\n",
       "      <td>Ishirô Honda</td>\n",
       "      <td>\"Shin'ichi Sekizawa\"</td>\n",
       "    </tr>\n",
       "    <tr>\n",
       "      <th>8447</th>\n",
       "      <td>Fidel Castro</td>\n",
       "      <td>2005</td>\n",
       "      <td>episode</td>\n",
       "      <td>6.4</td>\n",
       "      <td>44.0</td>\n",
       "      <td>98.230947</td>\n",
       "      <td>Documentary</td>\n",
       "      <td>None</td>\n",
       "      <td>English</td>\n",
       "      <td>Rena Baskin</td>\n",
       "      <td>Adriana Bosch</td>\n",
       "      <td>Adriana Bosch</td>\n",
       "    </tr>\n",
       "    <tr>\n",
       "      <th>8448</th>\n",
       "      <td>Epoch</td>\n",
       "      <td>2001</td>\n",
       "      <td>tv movie</td>\n",
       "      <td>4.9</td>\n",
       "      <td>2376.0</td>\n",
       "      <td>103.788491</td>\n",
       "      <td>Sci-Fi</td>\n",
       "      <td>United States</td>\n",
       "      <td>English</td>\n",
       "      <td>David Keith</td>\n",
       "      <td>Matt Codd</td>\n",
       "      <td>Jonathan Raymond</td>\n",
       "    </tr>\n",
       "    <tr>\n",
       "      <th>8449</th>\n",
       "      <td>The Company</td>\n",
       "      <td>2003</td>\n",
       "      <td>movie</td>\n",
       "      <td>6.3</td>\n",
       "      <td>6501.0</td>\n",
       "      <td>99.231426</td>\n",
       "      <td>Drama</td>\n",
       "      <td>United States</td>\n",
       "      <td>English</td>\n",
       "      <td>Neve Campbell</td>\n",
       "      <td>Robert Altman</td>\n",
       "      <td>Neve Campbell</td>\n",
       "    </tr>\n",
       "    <tr>\n",
       "      <th>8450</th>\n",
       "      <td>Predator</td>\n",
       "      <td>1987</td>\n",
       "      <td>movie</td>\n",
       "      <td>7.8</td>\n",
       "      <td>386850.0</td>\n",
       "      <td>99.231426</td>\n",
       "      <td>Action</td>\n",
       "      <td>United States</td>\n",
       "      <td>English</td>\n",
       "      <td>Arnold Schwarzenegger</td>\n",
       "      <td>John McTiernan</td>\n",
       "      <td>Jim Thomas</td>\n",
       "    </tr>\n",
       "  </tbody>\n",
       "</table>\n",
       "<p>8135 rows × 12 columns</p>\n",
       "</div>"
      ],
      "text/plain": [
       "                                                  title  year            kind  \\\n",
       "0                                       Dinosaur Planet  2003  tv mini series   \n",
       "1                                     Get Up and Dance!  1994     video movie   \n",
       "2                                                 8 Man  1992           movie   \n",
       "3                          What the #$*! Do We (K)now!?  2004           movie   \n",
       "4     Class of Nuke 'Em High Part II: Subhumanoid Me...  1991           movie   \n",
       "...                                                 ...   ...             ...   \n",
       "8446                                All Monsters Attack  1969           movie   \n",
       "8447                                       Fidel Castro  2005         episode   \n",
       "8448                                              Epoch  2001        tv movie   \n",
       "8449                                        The Company  2003           movie   \n",
       "8450                                           Predator  1987           movie   \n",
       "\n",
       "      rating      vote     runtime       genre1       country1 language1  \\\n",
       "0        7.7     474.0   50.000000  Documentary  United States   English   \n",
       "1        8.1      18.0   83.000000       Family  United States   English   \n",
       "2        5.5      93.0   99.231426       Action          Japan  Japanese   \n",
       "3        5.3   13432.0   60.000000  Documentary  United States   English   \n",
       "4        4.5    2177.0   96.000000       Comedy  United States   English   \n",
       "...      ...       ...         ...          ...            ...       ...   \n",
       "8446     3.9    4384.0   99.231426    Adventure          Japan  Japanese   \n",
       "8447     6.4      44.0   98.230947  Documentary           None   English   \n",
       "8448     4.9    2376.0  103.788491       Sci-Fi  United States   English   \n",
       "8449     6.3    6501.0   99.231426        Drama  United States   English   \n",
       "8450     7.8  386850.0   99.231426       Action  United States   English   \n",
       "\n",
       "                      cast1          director1               writer1  \n",
       "0          Christian Slater               None           Mike Carrol  \n",
       "1               Paula Abdul      Steve Purcell                  None  \n",
       "2              Kai Shishido  Yasuhiro Horiuchi        Kazumasa Hirai  \n",
       "3             Marlee Matlin      William Arntz         William Arntz  \n",
       "4             Brick Bronsky        Eric Louzil         Lloyd Kaufman  \n",
       "...                     ...                ...                   ...  \n",
       "8446        Tomonori Yazaki       Ishirô Honda  \"Shin'ichi Sekizawa\"  \n",
       "8447            Rena Baskin      Adriana Bosch         Adriana Bosch  \n",
       "8448            David Keith          Matt Codd      Jonathan Raymond  \n",
       "8449          Neve Campbell      Robert Altman         Neve Campbell  \n",
       "8450  Arnold Schwarzenegger     John McTiernan            Jim Thomas  \n",
       "\n",
       "[8135 rows x 12 columns]"
      ]
     },
     "execution_count": 185,
     "metadata": {},
     "output_type": "execute_result"
    }
   ],
   "source": [
    "data"
   ]
  },
  {
   "cell_type": "code",
   "execution_count": 186,
   "id": "12f2ebe1",
   "metadata": {},
   "outputs": [],
   "source": [
    "data=data.rename(columns={'genre1': \"Genre\", 'country1': \"Country\",'language1': \"Language\",'cast1': \"Cast\",'director1':\"Director\",'writer1':\"Writer\",'composer1':\"Composer\"})\n"
   ]
  },
  {
   "cell_type": "code",
   "execution_count": 187,
   "id": "91b3981f",
   "metadata": {},
   "outputs": [],
   "source": [
    "data['rating'] = round(data['rating']).astype('int')\n"
   ]
  },
  {
   "cell_type": "code",
   "execution_count": 188,
   "id": "c84159ac",
   "metadata": {},
   "outputs": [
    {
     "data": {
      "text/plain": [
       "title       0\n",
       "year        0\n",
       "kind        0\n",
       "rating      0\n",
       "vote        0\n",
       "runtime     0\n",
       "Genre       0\n",
       "Country     0\n",
       "Language    0\n",
       "Cast        0\n",
       "Director    0\n",
       "Writer      0\n",
       "dtype: int64"
      ]
     },
     "execution_count": 188,
     "metadata": {},
     "output_type": "execute_result"
    }
   ],
   "source": [
    "data.isna().sum()"
   ]
  },
  {
   "cell_type": "code",
   "execution_count": 189,
   "id": "5a76dc8e",
   "metadata": {},
   "outputs": [],
   "source": [
    "from sklearn.preprocessing import LabelEncoder\n",
    "\n",
    "le = LabelEncoder()\n",
    "\n",
    "Object_list = data.select_dtypes(include = \"object\").columns\n",
    "le = LabelEncoder()\n",
    "for col in data[Object_list]:\n",
    "    data[col] = le.fit_transform(data[col].astype(str))"
   ]
  },
  {
   "cell_type": "code",
   "execution_count": 190,
   "id": "f7b5a1c8",
   "metadata": {},
   "outputs": [
    {
     "data": {
      "text/html": [
       "<div>\n",
       "<style scoped>\n",
       "    .dataframe tbody tr th:only-of-type {\n",
       "        vertical-align: middle;\n",
       "    }\n",
       "\n",
       "    .dataframe tbody tr th {\n",
       "        vertical-align: top;\n",
       "    }\n",
       "\n",
       "    .dataframe thead th {\n",
       "        text-align: right;\n",
       "    }\n",
       "</style>\n",
       "<table border=\"1\" class=\"dataframe\">\n",
       "  <thead>\n",
       "    <tr style=\"text-align: right;\">\n",
       "      <th></th>\n",
       "      <th>title</th>\n",
       "      <th>year</th>\n",
       "      <th>kind</th>\n",
       "      <th>rating</th>\n",
       "      <th>vote</th>\n",
       "      <th>runtime</th>\n",
       "      <th>Genre</th>\n",
       "      <th>Country</th>\n",
       "      <th>Language</th>\n",
       "      <th>Cast</th>\n",
       "      <th>Director</th>\n",
       "      <th>Writer</th>\n",
       "    </tr>\n",
       "  </thead>\n",
       "  <tbody>\n",
       "    <tr>\n",
       "      <th>0</th>\n",
       "      <td>1773</td>\n",
       "      <td>2003</td>\n",
       "      <td>2</td>\n",
       "      <td>8</td>\n",
       "      <td>474.0</td>\n",
       "      <td>50.000000</td>\n",
       "      <td>6</td>\n",
       "      <td>63</td>\n",
       "      <td>16</td>\n",
       "      <td>867</td>\n",
       "      <td>2862</td>\n",
       "      <td>3319</td>\n",
       "    </tr>\n",
       "    <tr>\n",
       "      <th>1</th>\n",
       "      <td>2424</td>\n",
       "      <td>1994</td>\n",
       "      <td>7</td>\n",
       "      <td>8</td>\n",
       "      <td>18.0</td>\n",
       "      <td>83.000000</td>\n",
       "      <td>8</td>\n",
       "      <td>63</td>\n",
       "      <td>16</td>\n",
       "      <td>3628</td>\n",
       "      <td>3673</td>\n",
       "      <td>3507</td>\n",
       "    </tr>\n",
       "    <tr>\n",
       "      <th>2</th>\n",
       "      <td>85</td>\n",
       "      <td>1992</td>\n",
       "      <td>1</td>\n",
       "      <td>6</td>\n",
       "      <td>93.0</td>\n",
       "      <td>99.231426</td>\n",
       "      <td>0</td>\n",
       "      <td>37</td>\n",
       "      <td>33</td>\n",
       "      <td>2513</td>\n",
       "      <td>4078</td>\n",
       "      <td>2610</td>\n",
       "    </tr>\n",
       "    <tr>\n",
       "      <th>3</th>\n",
       "      <td>7538</td>\n",
       "      <td>2004</td>\n",
       "      <td>1</td>\n",
       "      <td>5</td>\n",
       "      <td>13432.0</td>\n",
       "      <td>60.000000</td>\n",
       "      <td>6</td>\n",
       "      <td>63</td>\n",
       "      <td>16</td>\n",
       "      <td>3047</td>\n",
       "      <td>4023</td>\n",
       "      <td>4893</td>\n",
       "    </tr>\n",
       "    <tr>\n",
       "      <th>4</th>\n",
       "      <td>1349</td>\n",
       "      <td>1991</td>\n",
       "      <td>1</td>\n",
       "      <td>4</td>\n",
       "      <td>2177.0</td>\n",
       "      <td>96.000000</td>\n",
       "      <td>4</td>\n",
       "      <td>63</td>\n",
       "      <td>16</td>\n",
       "      <td>639</td>\n",
       "      <td>1124</td>\n",
       "      <td>2893</td>\n",
       "    </tr>\n",
       "    <tr>\n",
       "      <th>...</th>\n",
       "      <td>...</td>\n",
       "      <td>...</td>\n",
       "      <td>...</td>\n",
       "      <td>...</td>\n",
       "      <td>...</td>\n",
       "      <td>...</td>\n",
       "      <td>...</td>\n",
       "      <td>...</td>\n",
       "      <td>...</td>\n",
       "      <td>...</td>\n",
       "      <td>...</td>\n",
       "      <td>...</td>\n",
       "    </tr>\n",
       "    <tr>\n",
       "      <th>8446</th>\n",
       "      <td>364</td>\n",
       "      <td>1969</td>\n",
       "      <td>1</td>\n",
       "      <td>4</td>\n",
       "      <td>4384.0</td>\n",
       "      <td>99.231426</td>\n",
       "      <td>1</td>\n",
       "      <td>37</td>\n",
       "      <td>33</td>\n",
       "      <td>4644</td>\n",
       "      <td>1565</td>\n",
       "      <td>34</td>\n",
       "    </tr>\n",
       "    <tr>\n",
       "      <th>8447</th>\n",
       "      <td>2176</td>\n",
       "      <td>2005</td>\n",
       "      <td>0</td>\n",
       "      <td>6</td>\n",
       "      <td>44.0</td>\n",
       "      <td>98.230947</td>\n",
       "      <td>6</td>\n",
       "      <td>43</td>\n",
       "      <td>16</td>\n",
       "      <td>3823</td>\n",
       "      <td>56</td>\n",
       "      <td>71</td>\n",
       "    </tr>\n",
       "    <tr>\n",
       "      <th>8448</th>\n",
       "      <td>2044</td>\n",
       "      <td>2001</td>\n",
       "      <td>3</td>\n",
       "      <td>5</td>\n",
       "      <td>2376.0</td>\n",
       "      <td>103.788491</td>\n",
       "      <td>20</td>\n",
       "      <td>63</td>\n",
       "      <td>16</td>\n",
       "      <td>1133</td>\n",
       "      <td>2570</td>\n",
       "      <td>2426</td>\n",
       "    </tr>\n",
       "    <tr>\n",
       "      <th>8449</th>\n",
       "      <td>5971</td>\n",
       "      <td>2003</td>\n",
       "      <td>1</td>\n",
       "      <td>6</td>\n",
       "      <td>6501.0</td>\n",
       "      <td>99.231426</td>\n",
       "      <td>7</td>\n",
       "      <td>63</td>\n",
       "      <td>16</td>\n",
       "      <td>3420</td>\n",
       "      <td>3279</td>\n",
       "      <td>3461</td>\n",
       "    </tr>\n",
       "    <tr>\n",
       "      <th>8450</th>\n",
       "      <td>4594</td>\n",
       "      <td>1987</td>\n",
       "      <td>1</td>\n",
       "      <td>8</td>\n",
       "      <td>386850.0</td>\n",
       "      <td>99.231426</td>\n",
       "      <td>0</td>\n",
       "      <td>63</td>\n",
       "      <td>16</td>\n",
       "      <td>372</td>\n",
       "      <td>1932</td>\n",
       "      <td>2207</td>\n",
       "    </tr>\n",
       "  </tbody>\n",
       "</table>\n",
       "<p>8135 rows × 12 columns</p>\n",
       "</div>"
      ],
      "text/plain": [
       "      title  year  kind  rating      vote     runtime  Genre  Country  \\\n",
       "0      1773  2003     2       8     474.0   50.000000      6       63   \n",
       "1      2424  1994     7       8      18.0   83.000000      8       63   \n",
       "2        85  1992     1       6      93.0   99.231426      0       37   \n",
       "3      7538  2004     1       5   13432.0   60.000000      6       63   \n",
       "4      1349  1991     1       4    2177.0   96.000000      4       63   \n",
       "...     ...   ...   ...     ...       ...         ...    ...      ...   \n",
       "8446    364  1969     1       4    4384.0   99.231426      1       37   \n",
       "8447   2176  2005     0       6      44.0   98.230947      6       43   \n",
       "8448   2044  2001     3       5    2376.0  103.788491     20       63   \n",
       "8449   5971  2003     1       6    6501.0   99.231426      7       63   \n",
       "8450   4594  1987     1       8  386850.0   99.231426      0       63   \n",
       "\n",
       "      Language  Cast  Director  Writer  \n",
       "0           16   867      2862    3319  \n",
       "1           16  3628      3673    3507  \n",
       "2           33  2513      4078    2610  \n",
       "3           16  3047      4023    4893  \n",
       "4           16   639      1124    2893  \n",
       "...        ...   ...       ...     ...  \n",
       "8446        33  4644      1565      34  \n",
       "8447        16  3823        56      71  \n",
       "8448        16  1133      2570    2426  \n",
       "8449        16  3420      3279    3461  \n",
       "8450        16   372      1932    2207  \n",
       "\n",
       "[8135 rows x 12 columns]"
      ]
     },
     "execution_count": 190,
     "metadata": {},
     "output_type": "execute_result"
    }
   ],
   "source": [
    "data"
   ]
  },
  {
   "cell_type": "code",
   "execution_count": 191,
   "id": "f1aa593e",
   "metadata": {},
   "outputs": [
    {
     "data": {
      "text/plain": [
       "16    5825\n",
       "33     506\n",
       "41     315\n",
       "20     303\n",
       "26     229\n",
       "      ... \n",
       "43       1\n",
       "52       1\n",
       "14       1\n",
       "2        1\n",
       "38       1\n",
       "Name: Language, Length: 64, dtype: int64"
      ]
     },
     "execution_count": 191,
     "metadata": {},
     "output_type": "execute_result"
    }
   ],
   "source": [
    "data['Language'].value_counts()"
   ]
  },
  {
   "cell_type": "code",
   "execution_count": 192,
   "id": "9c9aefbe",
   "metadata": {},
   "outputs": [
    {
     "name": "stdout",
     "output_type": "stream",
     "text": [
      "The accuracy of the Random Forest Classifier is: 48.24830977258758 %\n"
     ]
    }
   ],
   "source": [
    "rfc = RandomForestClassifier()\n",
    "rfc.fit(x_train, y_train)\n",
    "y_pred = rfc.predict(x_test)\n",
    "acc_rfc = rfc.score(x_test, y_test)\n",
    "print('The accuracy of the Random Forest Classifier is:', acc_rfc * 100, '%')"
   ]
  },
  {
   "cell_type": "code",
   "execution_count": 261,
   "id": "d750aed4",
   "metadata": {},
   "outputs": [
    {
     "data": {
      "text/html": [
       "<div>\n",
       "<style scoped>\n",
       "    .dataframe tbody tr th:only-of-type {\n",
       "        vertical-align: middle;\n",
       "    }\n",
       "\n",
       "    .dataframe tbody tr th {\n",
       "        vertical-align: top;\n",
       "    }\n",
       "\n",
       "    .dataframe thead th {\n",
       "        text-align: right;\n",
       "    }\n",
       "</style>\n",
       "<table border=\"1\" class=\"dataframe\">\n",
       "  <thead>\n",
       "    <tr style=\"text-align: right;\">\n",
       "      <th></th>\n",
       "      <th>title</th>\n",
       "      <th>year</th>\n",
       "      <th>kind</th>\n",
       "      <th>rating</th>\n",
       "      <th>vote</th>\n",
       "      <th>runtime</th>\n",
       "      <th>Genre</th>\n",
       "      <th>Country</th>\n",
       "      <th>Language</th>\n",
       "      <th>Cast</th>\n",
       "      <th>Director</th>\n",
       "      <th>Writer</th>\n",
       "    </tr>\n",
       "  </thead>\n",
       "  <tbody>\n",
       "    <tr>\n",
       "      <th>0</th>\n",
       "      <td>1773</td>\n",
       "      <td>2003</td>\n",
       "      <td>2</td>\n",
       "      <td>8</td>\n",
       "      <td>474.0</td>\n",
       "      <td>50.000000</td>\n",
       "      <td>6</td>\n",
       "      <td>63</td>\n",
       "      <td>16</td>\n",
       "      <td>867</td>\n",
       "      <td>2862</td>\n",
       "      <td>3319</td>\n",
       "    </tr>\n",
       "    <tr>\n",
       "      <th>1</th>\n",
       "      <td>2424</td>\n",
       "      <td>1994</td>\n",
       "      <td>7</td>\n",
       "      <td>8</td>\n",
       "      <td>18.0</td>\n",
       "      <td>83.000000</td>\n",
       "      <td>8</td>\n",
       "      <td>63</td>\n",
       "      <td>16</td>\n",
       "      <td>3628</td>\n",
       "      <td>3673</td>\n",
       "      <td>3507</td>\n",
       "    </tr>\n",
       "    <tr>\n",
       "      <th>2</th>\n",
       "      <td>85</td>\n",
       "      <td>1992</td>\n",
       "      <td>1</td>\n",
       "      <td>6</td>\n",
       "      <td>93.0</td>\n",
       "      <td>99.231426</td>\n",
       "      <td>0</td>\n",
       "      <td>37</td>\n",
       "      <td>33</td>\n",
       "      <td>2513</td>\n",
       "      <td>4078</td>\n",
       "      <td>2610</td>\n",
       "    </tr>\n",
       "    <tr>\n",
       "      <th>3</th>\n",
       "      <td>7538</td>\n",
       "      <td>2004</td>\n",
       "      <td>1</td>\n",
       "      <td>5</td>\n",
       "      <td>13432.0</td>\n",
       "      <td>60.000000</td>\n",
       "      <td>6</td>\n",
       "      <td>63</td>\n",
       "      <td>16</td>\n",
       "      <td>3047</td>\n",
       "      <td>4023</td>\n",
       "      <td>4893</td>\n",
       "    </tr>\n",
       "    <tr>\n",
       "      <th>4</th>\n",
       "      <td>1349</td>\n",
       "      <td>1991</td>\n",
       "      <td>1</td>\n",
       "      <td>4</td>\n",
       "      <td>2177.0</td>\n",
       "      <td>96.000000</td>\n",
       "      <td>4</td>\n",
       "      <td>63</td>\n",
       "      <td>16</td>\n",
       "      <td>639</td>\n",
       "      <td>1124</td>\n",
       "      <td>2893</td>\n",
       "    </tr>\n",
       "    <tr>\n",
       "      <th>...</th>\n",
       "      <td>...</td>\n",
       "      <td>...</td>\n",
       "      <td>...</td>\n",
       "      <td>...</td>\n",
       "      <td>...</td>\n",
       "      <td>...</td>\n",
       "      <td>...</td>\n",
       "      <td>...</td>\n",
       "      <td>...</td>\n",
       "      <td>...</td>\n",
       "      <td>...</td>\n",
       "      <td>...</td>\n",
       "    </tr>\n",
       "    <tr>\n",
       "      <th>8446</th>\n",
       "      <td>364</td>\n",
       "      <td>1969</td>\n",
       "      <td>1</td>\n",
       "      <td>4</td>\n",
       "      <td>4384.0</td>\n",
       "      <td>99.231426</td>\n",
       "      <td>1</td>\n",
       "      <td>37</td>\n",
       "      <td>33</td>\n",
       "      <td>4644</td>\n",
       "      <td>1565</td>\n",
       "      <td>34</td>\n",
       "    </tr>\n",
       "    <tr>\n",
       "      <th>8447</th>\n",
       "      <td>2176</td>\n",
       "      <td>2005</td>\n",
       "      <td>0</td>\n",
       "      <td>6</td>\n",
       "      <td>44.0</td>\n",
       "      <td>98.230947</td>\n",
       "      <td>6</td>\n",
       "      <td>43</td>\n",
       "      <td>16</td>\n",
       "      <td>3823</td>\n",
       "      <td>56</td>\n",
       "      <td>71</td>\n",
       "    </tr>\n",
       "    <tr>\n",
       "      <th>8448</th>\n",
       "      <td>2044</td>\n",
       "      <td>2001</td>\n",
       "      <td>3</td>\n",
       "      <td>5</td>\n",
       "      <td>2376.0</td>\n",
       "      <td>103.788491</td>\n",
       "      <td>20</td>\n",
       "      <td>63</td>\n",
       "      <td>16</td>\n",
       "      <td>1133</td>\n",
       "      <td>2570</td>\n",
       "      <td>2426</td>\n",
       "    </tr>\n",
       "    <tr>\n",
       "      <th>8449</th>\n",
       "      <td>5971</td>\n",
       "      <td>2003</td>\n",
       "      <td>1</td>\n",
       "      <td>6</td>\n",
       "      <td>6501.0</td>\n",
       "      <td>99.231426</td>\n",
       "      <td>7</td>\n",
       "      <td>63</td>\n",
       "      <td>16</td>\n",
       "      <td>3420</td>\n",
       "      <td>3279</td>\n",
       "      <td>3461</td>\n",
       "    </tr>\n",
       "    <tr>\n",
       "      <th>8450</th>\n",
       "      <td>4594</td>\n",
       "      <td>1987</td>\n",
       "      <td>1</td>\n",
       "      <td>8</td>\n",
       "      <td>386850.0</td>\n",
       "      <td>99.231426</td>\n",
       "      <td>0</td>\n",
       "      <td>63</td>\n",
       "      <td>16</td>\n",
       "      <td>372</td>\n",
       "      <td>1932</td>\n",
       "      <td>2207</td>\n",
       "    </tr>\n",
       "  </tbody>\n",
       "</table>\n",
       "<p>8134 rows × 12 columns</p>\n",
       "</div>"
      ],
      "text/plain": [
       "      title  year  kind  rating      vote     runtime  Genre  Country  \\\n",
       "0      1773  2003     2       8     474.0   50.000000      6       63   \n",
       "1      2424  1994     7       8      18.0   83.000000      8       63   \n",
       "2        85  1992     1       6      93.0   99.231426      0       37   \n",
       "3      7538  2004     1       5   13432.0   60.000000      6       63   \n",
       "4      1349  1991     1       4    2177.0   96.000000      4       63   \n",
       "...     ...   ...   ...     ...       ...         ...    ...      ...   \n",
       "8446    364  1969     1       4    4384.0   99.231426      1       37   \n",
       "8447   2176  2005     0       6      44.0   98.230947      6       43   \n",
       "8448   2044  2001     3       5    2376.0  103.788491     20       63   \n",
       "8449   5971  2003     1       6    6501.0   99.231426      7       63   \n",
       "8450   4594  1987     1       8  386850.0   99.231426      0       63   \n",
       "\n",
       "      Language  Cast  Director  Writer  \n",
       "0           16   867      2862    3319  \n",
       "1           16  3628      3673    3507  \n",
       "2           33  2513      4078    2610  \n",
       "3           16  3047      4023    4893  \n",
       "4           16   639      1124    2893  \n",
       "...        ...   ...       ...     ...  \n",
       "8446        33  4644      1565      34  \n",
       "8447        16  3823        56      71  \n",
       "8448        16  1133      2570    2426  \n",
       "8449        16  3420      3279    3461  \n",
       "8450        16   372      1932    2207  \n",
       "\n",
       "[8134 rows x 12 columns]"
      ]
     },
     "execution_count": 261,
     "metadata": {},
     "output_type": "execute_result"
    }
   ],
   "source": [
    "data = data[data.rating != 10]\n",
    "data"
   ]
  },
  {
   "cell_type": "code",
   "execution_count": 275,
   "id": "47fcd249",
   "metadata": {},
   "outputs": [],
   "source": [
    "from sklearn.model_selection import train_test_split\n",
    "from sklearn.ensemble import RandomForestClassifier\n",
    "\n",
    "x = data.drop('rating', axis =1)\n",
    "y = data['rating']\n",
    "x_train, x_test, y_train, y_test = train_test_split(x, y, test_size=0.3, random_state=1)"
   ]
  },
  {
   "cell_type": "code",
   "execution_count": 263,
   "id": "574dc2fa",
   "metadata": {},
   "outputs": [
    {
     "data": {
      "text/plain": [
       "7"
      ]
     },
     "execution_count": 263,
     "metadata": {},
     "output_type": "execute_result"
    }
   ],
   "source": [
    "from sklearn.feature_selection import SelectFromModel\n",
    "SFM = SelectFromModel(estimator=RandomForestClassifier()).fit(x, y)\n",
    "s=SFM.fit(x, y)\n",
    "n_features = s.transform(x).shape[1]\n",
    "\n",
    "n_features\n",
    "\n"
   ]
  },
  {
   "cell_type": "code",
   "execution_count": 264,
   "id": "b9911d4b",
   "metadata": {},
   "outputs": [
    {
     "data": {
      "text/plain": [
       "(5693,)"
      ]
     },
     "execution_count": 264,
     "metadata": {},
     "output_type": "execute_result"
    }
   ],
   "source": [
    "y_train.shape"
   ]
  },
  {
   "cell_type": "code",
   "execution_count": 265,
   "id": "69d4bc25",
   "metadata": {},
   "outputs": [
    {
     "data": {
      "text/plain": [
       "Index(['title', 'year', 'vote', 'runtime', 'Cast', 'Director', 'Writer'], dtype='object')"
      ]
     },
     "execution_count": 265,
     "metadata": {},
     "output_type": "execute_result"
    }
   ],
   "source": [
    "feature_idx = s.get_support()\n",
    "feature_name = x.columns[feature_idx]\n",
    "feature_name "
   ]
  },
  {
   "cell_type": "code",
   "execution_count": 266,
   "id": "7f086d09",
   "metadata": {},
   "outputs": [
    {
     "data": {
      "text/html": [
       "<div>\n",
       "<style scoped>\n",
       "    .dataframe tbody tr th:only-of-type {\n",
       "        vertical-align: middle;\n",
       "    }\n",
       "\n",
       "    .dataframe tbody tr th {\n",
       "        vertical-align: top;\n",
       "    }\n",
       "\n",
       "    .dataframe thead th {\n",
       "        text-align: right;\n",
       "    }\n",
       "</style>\n",
       "<table border=\"1\" class=\"dataframe\">\n",
       "  <thead>\n",
       "    <tr style=\"text-align: right;\">\n",
       "      <th></th>\n",
       "      <th>title</th>\n",
       "      <th>year</th>\n",
       "      <th>kind</th>\n",
       "      <th>vote</th>\n",
       "      <th>runtime</th>\n",
       "      <th>Genre</th>\n",
       "      <th>Country</th>\n",
       "      <th>Language</th>\n",
       "      <th>Cast</th>\n",
       "      <th>Director</th>\n",
       "      <th>Writer</th>\n",
       "    </tr>\n",
       "  </thead>\n",
       "  <tbody>\n",
       "    <tr>\n",
       "      <th>3845</th>\n",
       "      <td>2215</td>\n",
       "      <td>1975</td>\n",
       "      <td>2</td>\n",
       "      <td>254.0</td>\n",
       "      <td>106.000000</td>\n",
       "      <td>5</td>\n",
       "      <td>62</td>\n",
       "      <td>16</td>\n",
       "      <td>1878</td>\n",
       "      <td>2862</td>\n",
       "      <td>1174</td>\n",
       "    </tr>\n",
       "    <tr>\n",
       "      <th>8437</th>\n",
       "      <td>3522</td>\n",
       "      <td>2003</td>\n",
       "      <td>4</td>\n",
       "      <td>44.0</td>\n",
       "      <td>102.680154</td>\n",
       "      <td>2</td>\n",
       "      <td>37</td>\n",
       "      <td>33</td>\n",
       "      <td>1931</td>\n",
       "      <td>2862</td>\n",
       "      <td>2608</td>\n",
       "    </tr>\n",
       "    <tr>\n",
       "      <th>2357</th>\n",
       "      <td>4342</td>\n",
       "      <td>1985</td>\n",
       "      <td>7</td>\n",
       "      <td>61.0</td>\n",
       "      <td>90.000000</td>\n",
       "      <td>14</td>\n",
       "      <td>63</td>\n",
       "      <td>16</td>\n",
       "      <td>375</td>\n",
       "      <td>1917</td>\n",
       "      <td>3507</td>\n",
       "    </tr>\n",
       "    <tr>\n",
       "      <th>2196</th>\n",
       "      <td>6942</td>\n",
       "      <td>1969</td>\n",
       "      <td>1</td>\n",
       "      <td>1483.0</td>\n",
       "      <td>89.000000</td>\n",
       "      <td>4</td>\n",
       "      <td>63</td>\n",
       "      <td>16</td>\n",
       "      <td>1393</td>\n",
       "      <td>3063</td>\n",
       "      <td>334</td>\n",
       "    </tr>\n",
       "    <tr>\n",
       "      <th>3450</th>\n",
       "      <td>1113</td>\n",
       "      <td>1992</td>\n",
       "      <td>1</td>\n",
       "      <td>5032.0</td>\n",
       "      <td>88.000000</td>\n",
       "      <td>2</td>\n",
       "      <td>63</td>\n",
       "      <td>16</td>\n",
       "      <td>3988</td>\n",
       "      <td>482</td>\n",
       "      <td>4059</td>\n",
       "    </tr>\n",
       "    <tr>\n",
       "      <th>...</th>\n",
       "      <td>...</td>\n",
       "      <td>...</td>\n",
       "      <td>...</td>\n",
       "      <td>...</td>\n",
       "      <td>...</td>\n",
       "      <td>...</td>\n",
       "      <td>...</td>\n",
       "      <td>...</td>\n",
       "      <td>...</td>\n",
       "      <td>...</td>\n",
       "      <td>...</td>\n",
       "    </tr>\n",
       "    <tr>\n",
       "      <th>8245</th>\n",
       "      <td>6313</td>\n",
       "      <td>2000</td>\n",
       "      <td>7</td>\n",
       "      <td>35.0</td>\n",
       "      <td>99.995479</td>\n",
       "      <td>6</td>\n",
       "      <td>63</td>\n",
       "      <td>16</td>\n",
       "      <td>415</td>\n",
       "      <td>2862</td>\n",
       "      <td>3507</td>\n",
       "    </tr>\n",
       "    <tr>\n",
       "      <th>5436</th>\n",
       "      <td>1782</td>\n",
       "      <td>2001</td>\n",
       "      <td>1</td>\n",
       "      <td>4533.0</td>\n",
       "      <td>141.000000</td>\n",
       "      <td>5</td>\n",
       "      <td>33</td>\n",
       "      <td>16</td>\n",
       "      <td>1363</td>\n",
       "      <td>2229</td>\n",
       "      <td>1325</td>\n",
       "    </tr>\n",
       "    <tr>\n",
       "      <th>4168</th>\n",
       "      <td>2687</td>\n",
       "      <td>1994</td>\n",
       "      <td>1</td>\n",
       "      <td>61834.0</td>\n",
       "      <td>92.000000</td>\n",
       "      <td>3</td>\n",
       "      <td>42</td>\n",
       "      <td>16</td>\n",
       "      <td>3162</td>\n",
       "      <td>3034</td>\n",
       "      <td>1425</td>\n",
       "    </tr>\n",
       "    <tr>\n",
       "      <th>251</th>\n",
       "      <td>5443</td>\n",
       "      <td>2004</td>\n",
       "      <td>7</td>\n",
       "      <td>6.0</td>\n",
       "      <td>109.000000</td>\n",
       "      <td>5</td>\n",
       "      <td>63</td>\n",
       "      <td>16</td>\n",
       "      <td>188</td>\n",
       "      <td>2658</td>\n",
       "      <td>3507</td>\n",
       "    </tr>\n",
       "    <tr>\n",
       "      <th>5398</th>\n",
       "      <td>7349</td>\n",
       "      <td>1971</td>\n",
       "      <td>4</td>\n",
       "      <td>2895.0</td>\n",
       "      <td>178.000000</td>\n",
       "      <td>7</td>\n",
       "      <td>62</td>\n",
       "      <td>16</td>\n",
       "      <td>1705</td>\n",
       "      <td>2862</td>\n",
       "      <td>184</td>\n",
       "    </tr>\n",
       "  </tbody>\n",
       "</table>\n",
       "<p>5693 rows × 11 columns</p>\n",
       "</div>"
      ],
      "text/plain": [
       "      title  year  kind     vote     runtime  Genre  Country  Language  Cast  \\\n",
       "3845   2215  1975     2    254.0  106.000000      5       62        16  1878   \n",
       "8437   3522  2003     4     44.0  102.680154      2       37        33  1931   \n",
       "2357   4342  1985     7     61.0   90.000000     14       63        16   375   \n",
       "2196   6942  1969     1   1483.0   89.000000      4       63        16  1393   \n",
       "3450   1113  1992     1   5032.0   88.000000      2       63        16  3988   \n",
       "...     ...   ...   ...      ...         ...    ...      ...       ...   ...   \n",
       "8245   6313  2000     7     35.0   99.995479      6       63        16   415   \n",
       "5436   1782  2001     1   4533.0  141.000000      5       33        16  1363   \n",
       "4168   2687  1994     1  61834.0   92.000000      3       42        16  3162   \n",
       "251    5443  2004     7      6.0  109.000000      5       63        16   188   \n",
       "5398   7349  1971     4   2895.0  178.000000      7       62        16  1705   \n",
       "\n",
       "      Director  Writer  \n",
       "3845      2862    1174  \n",
       "8437      2862    2608  \n",
       "2357      1917    3507  \n",
       "2196      3063     334  \n",
       "3450       482    4059  \n",
       "...        ...     ...  \n",
       "8245      2862    3507  \n",
       "5436      2229    1325  \n",
       "4168      3034    1425  \n",
       "251       2658    3507  \n",
       "5398      2862     184  \n",
       "\n",
       "[5693 rows x 11 columns]"
      ]
     },
     "execution_count": 266,
     "metadata": {},
     "output_type": "execute_result"
    }
   ],
   "source": [
    "x_train"
   ]
  },
  {
   "cell_type": "code",
   "execution_count": 267,
   "id": "606e1893",
   "metadata": {},
   "outputs": [
    {
     "data": {
      "text/plain": [
       "3845    8\n",
       "8437    6\n",
       "2357    9\n",
       "2196    5\n",
       "3450    6\n",
       "       ..\n",
       "8245    8\n",
       "5436    7\n",
       "4168    7\n",
       "251     4\n",
       "5398    8\n",
       "Name: rating, Length: 5693, dtype: int32"
      ]
     },
     "execution_count": 267,
     "metadata": {},
     "output_type": "execute_result"
    }
   ],
   "source": [
    "y_train"
   ]
  },
  {
   "cell_type": "markdown",
   "id": "6b100e0d",
   "metadata": {},
   "source": [
    "# Quadratic Discriminant Analysis"
   ]
  },
  {
   "cell_type": "code",
   "execution_count": 268,
   "id": "23682993",
   "metadata": {},
   "outputs": [],
   "source": [
    "from sklearn.discriminant_analysis import QuadraticDiscriminantAnalysis"
   ]
  },
  {
   "cell_type": "code",
   "execution_count": 272,
   "id": "cccb9864",
   "metadata": {
    "scrolled": true
   },
   "outputs": [
    {
     "data": {
      "text/html": [
       "<div>\n",
       "<style scoped>\n",
       "    .dataframe tbody tr th:only-of-type {\n",
       "        vertical-align: middle;\n",
       "    }\n",
       "\n",
       "    .dataframe tbody tr th {\n",
       "        vertical-align: top;\n",
       "    }\n",
       "\n",
       "    .dataframe thead th {\n",
       "        text-align: right;\n",
       "    }\n",
       "</style>\n",
       "<table border=\"1\" class=\"dataframe\">\n",
       "  <thead>\n",
       "    <tr style=\"text-align: right;\">\n",
       "      <th></th>\n",
       "      <th>title</th>\n",
       "      <th>year</th>\n",
       "      <th>kind</th>\n",
       "      <th>vote</th>\n",
       "      <th>runtime</th>\n",
       "      <th>Genre</th>\n",
       "      <th>Country</th>\n",
       "      <th>Language</th>\n",
       "      <th>Cast</th>\n",
       "      <th>Director</th>\n",
       "      <th>Writer</th>\n",
       "    </tr>\n",
       "  </thead>\n",
       "  <tbody>\n",
       "    <tr>\n",
       "      <th>0</th>\n",
       "      <td>1773</td>\n",
       "      <td>2003</td>\n",
       "      <td>2</td>\n",
       "      <td>474.0</td>\n",
       "      <td>50.000000</td>\n",
       "      <td>6</td>\n",
       "      <td>63</td>\n",
       "      <td>16</td>\n",
       "      <td>867</td>\n",
       "      <td>2862</td>\n",
       "      <td>3319</td>\n",
       "    </tr>\n",
       "    <tr>\n",
       "      <th>1</th>\n",
       "      <td>2424</td>\n",
       "      <td>1994</td>\n",
       "      <td>7</td>\n",
       "      <td>18.0</td>\n",
       "      <td>83.000000</td>\n",
       "      <td>8</td>\n",
       "      <td>63</td>\n",
       "      <td>16</td>\n",
       "      <td>3628</td>\n",
       "      <td>3673</td>\n",
       "      <td>3507</td>\n",
       "    </tr>\n",
       "    <tr>\n",
       "      <th>2</th>\n",
       "      <td>85</td>\n",
       "      <td>1992</td>\n",
       "      <td>1</td>\n",
       "      <td>93.0</td>\n",
       "      <td>99.231426</td>\n",
       "      <td>0</td>\n",
       "      <td>37</td>\n",
       "      <td>33</td>\n",
       "      <td>2513</td>\n",
       "      <td>4078</td>\n",
       "      <td>2610</td>\n",
       "    </tr>\n",
       "    <tr>\n",
       "      <th>3</th>\n",
       "      <td>7538</td>\n",
       "      <td>2004</td>\n",
       "      <td>1</td>\n",
       "      <td>13432.0</td>\n",
       "      <td>60.000000</td>\n",
       "      <td>6</td>\n",
       "      <td>63</td>\n",
       "      <td>16</td>\n",
       "      <td>3047</td>\n",
       "      <td>4023</td>\n",
       "      <td>4893</td>\n",
       "    </tr>\n",
       "    <tr>\n",
       "      <th>4</th>\n",
       "      <td>1349</td>\n",
       "      <td>1991</td>\n",
       "      <td>1</td>\n",
       "      <td>2177.0</td>\n",
       "      <td>96.000000</td>\n",
       "      <td>4</td>\n",
       "      <td>63</td>\n",
       "      <td>16</td>\n",
       "      <td>639</td>\n",
       "      <td>1124</td>\n",
       "      <td>2893</td>\n",
       "    </tr>\n",
       "    <tr>\n",
       "      <th>...</th>\n",
       "      <td>...</td>\n",
       "      <td>...</td>\n",
       "      <td>...</td>\n",
       "      <td>...</td>\n",
       "      <td>...</td>\n",
       "      <td>...</td>\n",
       "      <td>...</td>\n",
       "      <td>...</td>\n",
       "      <td>...</td>\n",
       "      <td>...</td>\n",
       "      <td>...</td>\n",
       "    </tr>\n",
       "    <tr>\n",
       "      <th>8446</th>\n",
       "      <td>364</td>\n",
       "      <td>1969</td>\n",
       "      <td>1</td>\n",
       "      <td>4384.0</td>\n",
       "      <td>99.231426</td>\n",
       "      <td>1</td>\n",
       "      <td>37</td>\n",
       "      <td>33</td>\n",
       "      <td>4644</td>\n",
       "      <td>1565</td>\n",
       "      <td>34</td>\n",
       "    </tr>\n",
       "    <tr>\n",
       "      <th>8447</th>\n",
       "      <td>2176</td>\n",
       "      <td>2005</td>\n",
       "      <td>0</td>\n",
       "      <td>44.0</td>\n",
       "      <td>98.230947</td>\n",
       "      <td>6</td>\n",
       "      <td>43</td>\n",
       "      <td>16</td>\n",
       "      <td>3823</td>\n",
       "      <td>56</td>\n",
       "      <td>71</td>\n",
       "    </tr>\n",
       "    <tr>\n",
       "      <th>8448</th>\n",
       "      <td>2044</td>\n",
       "      <td>2001</td>\n",
       "      <td>3</td>\n",
       "      <td>2376.0</td>\n",
       "      <td>103.788491</td>\n",
       "      <td>20</td>\n",
       "      <td>63</td>\n",
       "      <td>16</td>\n",
       "      <td>1133</td>\n",
       "      <td>2570</td>\n",
       "      <td>2426</td>\n",
       "    </tr>\n",
       "    <tr>\n",
       "      <th>8449</th>\n",
       "      <td>5971</td>\n",
       "      <td>2003</td>\n",
       "      <td>1</td>\n",
       "      <td>6501.0</td>\n",
       "      <td>99.231426</td>\n",
       "      <td>7</td>\n",
       "      <td>63</td>\n",
       "      <td>16</td>\n",
       "      <td>3420</td>\n",
       "      <td>3279</td>\n",
       "      <td>3461</td>\n",
       "    </tr>\n",
       "    <tr>\n",
       "      <th>8450</th>\n",
       "      <td>4594</td>\n",
       "      <td>1987</td>\n",
       "      <td>1</td>\n",
       "      <td>386850.0</td>\n",
       "      <td>99.231426</td>\n",
       "      <td>0</td>\n",
       "      <td>63</td>\n",
       "      <td>16</td>\n",
       "      <td>372</td>\n",
       "      <td>1932</td>\n",
       "      <td>2207</td>\n",
       "    </tr>\n",
       "  </tbody>\n",
       "</table>\n",
       "<p>8134 rows × 11 columns</p>\n",
       "</div>"
      ],
      "text/plain": [
       "      title  year  kind      vote     runtime  Genre  Country  Language  Cast  \\\n",
       "0      1773  2003     2     474.0   50.000000      6       63        16   867   \n",
       "1      2424  1994     7      18.0   83.000000      8       63        16  3628   \n",
       "2        85  1992     1      93.0   99.231426      0       37        33  2513   \n",
       "3      7538  2004     1   13432.0   60.000000      6       63        16  3047   \n",
       "4      1349  1991     1    2177.0   96.000000      4       63        16   639   \n",
       "...     ...   ...   ...       ...         ...    ...      ...       ...   ...   \n",
       "8446    364  1969     1    4384.0   99.231426      1       37        33  4644   \n",
       "8447   2176  2005     0      44.0   98.230947      6       43        16  3823   \n",
       "8448   2044  2001     3    2376.0  103.788491     20       63        16  1133   \n",
       "8449   5971  2003     1    6501.0   99.231426      7       63        16  3420   \n",
       "8450   4594  1987     1  386850.0   99.231426      0       63        16   372   \n",
       "\n",
       "      Director  Writer  \n",
       "0         2862    3319  \n",
       "1         3673    3507  \n",
       "2         4078    2610  \n",
       "3         4023    4893  \n",
       "4         1124    2893  \n",
       "...        ...     ...  \n",
       "8446      1565      34  \n",
       "8447        56      71  \n",
       "8448      2570    2426  \n",
       "8449      3279    3461  \n",
       "8450      1932    2207  \n",
       "\n",
       "[8134 rows x 11 columns]"
      ]
     },
     "execution_count": 272,
     "metadata": {},
     "output_type": "execute_result"
    }
   ],
   "source": [
    "#Fit the QDA model\n",
    "X = data.drop('rating', axis =1)\n",
    "\n",
    "X"
   ]
  },
  {
   "cell_type": "code",
   "execution_count": null,
   "id": "6aa969e7",
   "metadata": {},
   "outputs": [],
   "source": []
  },
  {
   "cell_type": "code",
   "execution_count": 273,
   "id": "330942eb",
   "metadata": {},
   "outputs": [
    {
     "data": {
      "text/plain": [
       "0       8\n",
       "1       8\n",
       "2       6\n",
       "3       5\n",
       "4       4\n",
       "       ..\n",
       "8446    4\n",
       "8447    6\n",
       "8448    5\n",
       "8449    6\n",
       "8450    8\n",
       "Name: rating, Length: 8134, dtype: int32"
      ]
     },
     "execution_count": 273,
     "metadata": {},
     "output_type": "execute_result"
    }
   ],
   "source": [
    "t = data['rating']\n",
    "t"
   ]
  },
  {
   "cell_type": "code",
   "execution_count": 412,
   "id": "0f726fbe",
   "metadata": {},
   "outputs": [],
   "source": [
    "import sklearn.discriminant_analysis\n",
    "from sklearn.discriminant_analysis import QuadraticDiscriminantAnalysis\n",
    "from sklearn.model_selection import RepeatedStratifiedKFold\n",
    "from sklearn.model_selection import cross_val_score\n",
    "from sklearn.ensemble import RandomForestClassifier, GradientBoostingClassifier, VotingClassifier \n",
    "from sklearn.metrics import mean_squared_error,confusion_matrix, precision_score, recall_score, auc,roc_curve"
   ]
  },
  {
   "cell_type": "code",
   "execution_count": 413,
   "id": "996641ad",
   "metadata": {},
   "outputs": [
    {
     "data": {
      "text/plain": [
       "QuadraticDiscriminantAnalysis()"
      ]
     },
     "execution_count": 413,
     "metadata": {},
     "output_type": "execute_result"
    }
   ],
   "source": [
    "clf = QuadraticDiscriminantAnalysis()\n",
    "clf"
   ]
  },
  {
   "cell_type": "code",
   "execution_count": 437,
   "id": "68043c8a",
   "metadata": {},
   "outputs": [
    {
     "name": "stdout",
     "output_type": "stream",
     "text": [
      "The accuracy of the QuadraticDiscriminantAnalysis is: 21.46661204424416 %\n"
     ]
    }
   ],
   "source": [
    "clf.fit(x_train, y_train)\n",
    "y_predict = clf.predict(x_test)\n",
    "\n",
    "acc_clf = clf.score(x_test, y_test)\n",
    "print('The accuracy of the QuadraticDiscriminantAnalysis is:', acc_clf* 100, '%')"
   ]
  },
  {
   "cell_type": "code",
   "execution_count": 441,
   "id": "33b12ac0",
   "metadata": {},
   "outputs": [
    {
     "name": "stdout",
     "output_type": "stream",
     "text": [
      "F1 Score of the QuadraticDiscriminantAnalysis is: 16.050291266003025\n"
     ]
    }
   ],
   "source": [
    "print(f\"F1 Score of the QuadraticDiscriminantAnalysis is: {f1_score(y_test, y_predict, average='macro') *100}\")"
   ]
  },
  {
   "cell_type": "code",
   "execution_count": 442,
   "id": "1155b0f1",
   "metadata": {},
   "outputs": [
    {
     "name": "stdout",
     "output_type": "stream",
     "text": [
      "Recall Score of the QuadraticDiscriminantAnalysis is: 20.338154268879407\n"
     ]
    }
   ],
   "source": [
    "print(f\"Recall Score of the QuadraticDiscriminantAnalysis is: {recall_score(y_test, y_predict ,average='macro')*100}\")\n"
   ]
  },
  {
   "cell_type": "code",
   "execution_count": 443,
   "id": "52bf4cd6",
   "metadata": {},
   "outputs": [
    {
     "name": "stdout",
     "output_type": "stream",
     "text": [
      "Recall Score of the QuadraticDiscriminantAnalysis is: 24.503759454770275\n"
     ]
    }
   ],
   "source": [
    "print(f\"Recall Score of the QuadraticDiscriminantAnalysis is: {precision_score(y_test, y_predict,average='macro')*100}\")"
   ]
  },
  {
   "cell_type": "code",
   "execution_count": 444,
   "id": "18a20510",
   "metadata": {},
   "outputs": [
    {
     "name": "stdout",
     "output_type": "stream",
     "text": [
      "AUC for our QuadraticDiscriminantAnalysis is: 0.188774388568288\n"
     ]
    },
    {
     "data": {
      "image/png": "[encoded data removed]",
      "text/plain": [
       "<Figure size 432x288 with 1 Axes>"
      ]
     },
     "metadata": {
      "needs_background": "light"
     },
     "output_type": "display_data"
    }
   ],
   "source": [
    "fpr, tpr, threshold = roc_curve(y_test, y_predict, pos_label= 2)\n",
    "roc_auc = auc(fpr, tpr)\n",
    "\n",
    "# Printing AUC\n",
    "print(f\"AUC for our QuadraticDiscriminantAnalysis is: {roc_auc}\")\n",
    "\n",
    "# Plotting the ROC\n",
    "plt.title('Receiver Operating Characteristic')\n",
    "plt.plot(fpr, tpr, 'b', label = 'AUC = %0.2f' % roc_auc)\n",
    "plt.legend(loc = 'lower right')\n",
    "plt.plot([0, 1], [0, 1],'r--')\n",
    "plt.xlim([0, 1])\n",
    "plt.ylim([0, 1])\n",
    "plt.ylabel('True Positive Rate')\n",
    "plt.xlabel('False Positive Rate')\n",
    "plt.show()"
   ]
  },
  {
   "cell_type": "markdown",
   "id": "9095ecad",
   "metadata": {},
   "source": [
    "# Summary of Model "
   ]
  },
  {
   "cell_type": "markdown",
   "id": "28109324",
   "metadata": {},
   "source": [
    ". A classifier with a quadratic decision boundary, generated by fitting class conditional densities to the data and using Bayes’ rule.\n",
    "\n",
    ". The model fits a Gaussian density to each class.\n",
    "\n",
    "\n",
    ". all Metrics values was under 30%\n",
    "\n",
    ". QDA assumes that each class follow a Gaussian distribution, but with the values of metrics we can say that we didn't have a \n",
    "  Gaussien distrubtion of data (unbalanced data).\n",
    "  \n",
    ". the ROC plot with a AUc line under the red line,\n",
    "\n",
    "\n",
    "\n",
    "\n"
   ]
  },
  {
   "cell_type": "code",
   "execution_count": 427,
   "id": "87ea4bcf",
   "metadata": {},
   "outputs": [
    {
     "name": "stdout",
     "output_type": "stream",
     "text": [
      "The accuracy of the Random Forest Classifier is: 50.67595247849243 %\n"
     ]
    }
   ],
   "source": [
    "# seconde estimator for VotingClassifier  \n",
    "rf1 = RandomForestClassifier()\n",
    "rf1.fit(x_train, y_train)\n",
    "y_val_pred = rf1.predict_proba(x_test)\n",
    "acc_rf1 = rf1.score(x_test, y_test)\n",
    "acc_lr = rf1.score(x_test, y_test)\n",
    "\n",
    "print('The accuracy of the Random Forest Classifier is:', acc_lr * 100, '%')"
   ]
  },
  {
   "cell_type": "markdown",
   "id": "1cebf208",
   "metadata": {},
   "source": [
    "# VotingClassifier"
   ]
  },
  {
   "cell_type": "code",
   "execution_count": 429,
   "id": "c2592a55",
   "metadata": {},
   "outputs": [
    {
     "data": {
      "text/plain": [
       "0.40393281442031953"
      ]
     },
     "execution_count": 429,
     "metadata": {},
     "output_type": "execute_result"
    }
   ],
   "source": [
    "eclf = VotingClassifier(estimators=[('clf', clf), ('rf1', rf1)], voting=\"soft\")\n",
    "eclf.fit(x_train, y_train)\n",
    "\n",
    "y_pred = eclf.predict(x_test)\n",
    "acc_rf1 = eclf.score(x_test, y_test)\n",
    "\n",
    "acc_rf1"
   ]
  },
  {
   "cell_type": "code",
   "execution_count": 445,
   "id": "451bc16a",
   "metadata": {},
   "outputs": [
    {
     "name": "stdout",
     "output_type": "stream",
     "text": [
      "[[  0   9   3   1   2   0   0   0]\n",
      " [  1   7   9   8   7   5   1   0]\n",
      " [  0  19  27  28  27  20   0   0]\n",
      " [  1  22  20  44  61  57   2   0]\n",
      " [  2  36  12  90 178 255  16   1]\n",
      " [  0  44  21  41 103 469  77   5]\n",
      " [  1  65  15  16  23 251 232  11]\n",
      " [  1  17   2   1   1  14  31  29]]\n"
     ]
    },
    {
     "data": {
      "image/png": "[encoded data removed]",
      "text/plain": [
       "<Figure size 432x288 with 2 Axes>"
      ]
     },
     "metadata": {
      "needs_background": "light"
     },
     "output_type": "display_data"
    }
   ],
   "source": [
    "from sklearn.metrics import plot_confusion_matrix\n",
    "import matplotlib.pyplot as plt\n",
    "\n",
    "# confusion_matrix funnction a matrix containing the summary of predictions\n",
    "print(confusion_matrix(y_test, y_pred))\n",
    "\n",
    "# plot_confusion_matrix function is used to visualize the confusion matrix\n",
    "plot_confusion_matrix(eclf, x_test,y_test)\n",
    "plt.show()"
   ]
  },
  {
   "cell_type": "code",
   "execution_count": 446,
   "id": "c1a29a57",
   "metadata": {},
   "outputs": [
    {
     "name": "stdout",
     "output_type": "stream",
     "text": [
      "F1 Score of the VotingClassifier is: 0.28094723257191206\n"
     ]
    }
   ],
   "source": [
    "from sklearn.metrics import f1_score\n",
    "\n",
    "# Calculating the F1 score of classifier\n",
    "print(f\"F1 Score of the VotingClassifier is: {f1_score(y_test, y_pred, average='macro')}\")\n",
    "\n"
   ]
  },
  {
   "cell_type": "code",
   "execution_count": 447,
   "id": "b265c5a6",
   "metadata": {},
   "outputs": [
    {
     "name": "stdout",
     "output_type": "stream",
     "text": [
      "Recall Score of the VotingClassifier is: 0.27733063540861286\n"
     ]
    }
   ],
   "source": [
    "from sklearn.metrics import recall_score\n",
    "\n",
    "# Calculating the recall score of classifier\n",
    "print(f\"Recall Score of the VotingClassifier is: {recall_score(y_test, y_pred,average='macro')}\")\n",
    "\n"
   ]
  },
  {
   "cell_type": "code",
   "execution_count": 448,
   "id": "73935f7a",
   "metadata": {},
   "outputs": [
    {
     "name": "stdout",
     "output_type": "stream",
     "text": [
      "precision_score of the VotingClassifier is: 0.3286473167049077\n"
     ]
    }
   ],
   "source": [
    " from sklearn.metrics import precision_score\n",
    "# Calculating the precision_score of classifier\n",
    "print(f\"precision_score of the VotingClassifier is: {precision_score(y_test, y_pred,average='macro')}\")"
   ]
  },
  {
   "cell_type": "code",
   "execution_count": 449,
   "id": "27ab0be7",
   "metadata": {},
   "outputs": [
    {
     "name": "stdout",
     "output_type": "stream",
     "text": [
      "AUC for our VotingClassifier is: 0.1028304479252542\n"
     ]
    },
    {
     "data": {
      "image/png": "[encoded data removed]",
      "text/plain": [
       "<Figure size 432x288 with 1 Axes>"
      ]
     },
     "metadata": {
      "needs_background": "light"
     },
     "output_type": "display_data"
    }
   ],
   "source": [
    "# Importing all necessary libraries\n",
    "from sklearn.metrics import roc_curve, auc\n",
    "\n",
    "fpr, tpr, threshold = roc_curve(y_test, y_pred, pos_label= 2)\n",
    "roc_auc = auc(fpr, tpr)\n",
    "\n",
    "# Printing AUC\n",
    "print(f\"AUC for our VotingClassifier is: {roc_auc}\")\n",
    "\n",
    "# Plotting the ROC\n",
    "plt.title('Receiver Operating Characteristic')\n",
    "plt.plot(fpr, tpr, 'b', label = 'AUC = %0.2f' % roc_auc)\n",
    "plt.legend(loc = 'lower right')\n",
    "plt.plot([0, 1], [0, 1],'r--')\n",
    "plt.xlim([0, 1])\n",
    "plt.ylim([0, 1])\n",
    "plt.ylabel('True Positive Rate')\n",
    "plt.xlabel('False Positive Rate')\n",
    "plt.show()"
   ]
  },
  {
   "cell_type": "code",
   "execution_count": null,
   "id": "b89438a2",
   "metadata": {},
   "outputs": [],
   "source": []
  }
 ],
 "metadata": {
  "kernelspec": {
   "display_name": "Python 3 (ipykernel)",
   "language": "python",
   "name": "python3"
  },
  "language_info": {
   "codemirror_mode": {
    "name": "ipython",
    "version": 3
   },
   "file_extension": ".py",
   "mimetype": "text/x-python",
   "name": "python",
   "nbconvert_exporter": "python",
   "pygments_lexer": "ipython3",
   "version": "3.9.7"
  }
 },
 "nbformat": 4,
 "nbformat_minor": 5
}
